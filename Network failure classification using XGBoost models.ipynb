{
 "cells": [
  {
   "cell_type": "code",
   "execution_count": 2,
   "id": "e05f733b",
   "metadata": {},
   "outputs": [],
   "source": [
    "import pandas as pd"
   ]
  },
  {
   "cell_type": "code",
   "execution_count": 3,
   "id": "22744c5a",
   "metadata": {
    "collapsed": true
   },
   "outputs": [
    {
     "ename": "FileNotFoundError",
     "evalue": "[Errno 2] No such file or directory: 'D:\\\\Network failure classification model using network digital twin\\\\training-data_a.csv'",
     "output_type": "error",
     "traceback": [
      "\u001b[1;31m---------------------------------------------------------------------------\u001b[0m",
      "\u001b[1;31mFileNotFoundError\u001b[0m                         Traceback (most recent call last)",
      "Cell \u001b[1;32mIn[3], line 1\u001b[0m\n\u001b[1;32m----> 1\u001b[0m df \u001b[38;5;241m=\u001b[39m pd\u001b[38;5;241m.\u001b[39mread_csv(\u001b[38;5;124mr\u001b[39m\u001b[38;5;124m'\u001b[39m\u001b[38;5;124mD:\u001b[39m\u001b[38;5;124m\\\u001b[39m\u001b[38;5;124mNetwork failure classification model using network digital twin\u001b[39m\u001b[38;5;124m\\\u001b[39m\u001b[38;5;124mtraining-data_a.csv\u001b[39m\u001b[38;5;124m'\u001b[39m)\n",
      "File \u001b[1;32mD:\\Anaconda Enviroment\\A\\Lib\\site-packages\\pandas\\util\\_decorators.py:211\u001b[0m, in \u001b[0;36mdeprecate_kwarg.<locals>._deprecate_kwarg.<locals>.wrapper\u001b[1;34m(*args, **kwargs)\u001b[0m\n\u001b[0;32m    209\u001b[0m     \u001b[38;5;28;01melse\u001b[39;00m:\n\u001b[0;32m    210\u001b[0m         kwargs[new_arg_name] \u001b[38;5;241m=\u001b[39m new_arg_value\n\u001b[1;32m--> 211\u001b[0m \u001b[38;5;28;01mreturn\u001b[39;00m func(\u001b[38;5;241m*\u001b[39margs, \u001b[38;5;241m*\u001b[39m\u001b[38;5;241m*\u001b[39mkwargs)\n",
      "File \u001b[1;32mD:\\Anaconda Enviroment\\A\\Lib\\site-packages\\pandas\\util\\_decorators.py:331\u001b[0m, in \u001b[0;36mdeprecate_nonkeyword_arguments.<locals>.decorate.<locals>.wrapper\u001b[1;34m(*args, **kwargs)\u001b[0m\n\u001b[0;32m    325\u001b[0m \u001b[38;5;28;01mif\u001b[39;00m \u001b[38;5;28mlen\u001b[39m(args) \u001b[38;5;241m>\u001b[39m num_allow_args:\n\u001b[0;32m    326\u001b[0m     warnings\u001b[38;5;241m.\u001b[39mwarn(\n\u001b[0;32m    327\u001b[0m         msg\u001b[38;5;241m.\u001b[39mformat(arguments\u001b[38;5;241m=\u001b[39m_format_argument_list(allow_args)),\n\u001b[0;32m    328\u001b[0m         \u001b[38;5;167;01mFutureWarning\u001b[39;00m,\n\u001b[0;32m    329\u001b[0m         stacklevel\u001b[38;5;241m=\u001b[39mfind_stack_level(),\n\u001b[0;32m    330\u001b[0m     )\n\u001b[1;32m--> 331\u001b[0m \u001b[38;5;28;01mreturn\u001b[39;00m func(\u001b[38;5;241m*\u001b[39margs, \u001b[38;5;241m*\u001b[39m\u001b[38;5;241m*\u001b[39mkwargs)\n",
      "File \u001b[1;32mD:\\Anaconda Enviroment\\A\\Lib\\site-packages\\pandas\\io\\parsers\\readers.py:950\u001b[0m, in \u001b[0;36mread_csv\u001b[1;34m(filepath_or_buffer, sep, delimiter, header, names, index_col, usecols, squeeze, prefix, mangle_dupe_cols, dtype, engine, converters, true_values, false_values, skipinitialspace, skiprows, skipfooter, nrows, na_values, keep_default_na, na_filter, verbose, skip_blank_lines, parse_dates, infer_datetime_format, keep_date_col, date_parser, dayfirst, cache_dates, iterator, chunksize, compression, thousands, decimal, lineterminator, quotechar, quoting, doublequote, escapechar, comment, encoding, encoding_errors, dialect, error_bad_lines, warn_bad_lines, on_bad_lines, delim_whitespace, low_memory, memory_map, float_precision, storage_options)\u001b[0m\n\u001b[0;32m    935\u001b[0m kwds_defaults \u001b[38;5;241m=\u001b[39m _refine_defaults_read(\n\u001b[0;32m    936\u001b[0m     dialect,\n\u001b[0;32m    937\u001b[0m     delimiter,\n\u001b[1;32m   (...)\u001b[0m\n\u001b[0;32m    946\u001b[0m     defaults\u001b[38;5;241m=\u001b[39m{\u001b[38;5;124m\"\u001b[39m\u001b[38;5;124mdelimiter\u001b[39m\u001b[38;5;124m\"\u001b[39m: \u001b[38;5;124m\"\u001b[39m\u001b[38;5;124m,\u001b[39m\u001b[38;5;124m\"\u001b[39m},\n\u001b[0;32m    947\u001b[0m )\n\u001b[0;32m    948\u001b[0m kwds\u001b[38;5;241m.\u001b[39mupdate(kwds_defaults)\n\u001b[1;32m--> 950\u001b[0m \u001b[38;5;28;01mreturn\u001b[39;00m _read(filepath_or_buffer, kwds)\n",
      "File \u001b[1;32mD:\\Anaconda Enviroment\\A\\Lib\\site-packages\\pandas\\io\\parsers\\readers.py:605\u001b[0m, in \u001b[0;36m_read\u001b[1;34m(filepath_or_buffer, kwds)\u001b[0m\n\u001b[0;32m    602\u001b[0m _validate_names(kwds\u001b[38;5;241m.\u001b[39mget(\u001b[38;5;124m\"\u001b[39m\u001b[38;5;124mnames\u001b[39m\u001b[38;5;124m\"\u001b[39m, \u001b[38;5;28;01mNone\u001b[39;00m))\n\u001b[0;32m    604\u001b[0m \u001b[38;5;66;03m# Create the parser.\u001b[39;00m\n\u001b[1;32m--> 605\u001b[0m parser \u001b[38;5;241m=\u001b[39m TextFileReader(filepath_or_buffer, \u001b[38;5;241m*\u001b[39m\u001b[38;5;241m*\u001b[39mkwds)\n\u001b[0;32m    607\u001b[0m \u001b[38;5;28;01mif\u001b[39;00m chunksize \u001b[38;5;129;01mor\u001b[39;00m iterator:\n\u001b[0;32m    608\u001b[0m     \u001b[38;5;28;01mreturn\u001b[39;00m parser\n",
      "File \u001b[1;32mD:\\Anaconda Enviroment\\A\\Lib\\site-packages\\pandas\\io\\parsers\\readers.py:1442\u001b[0m, in \u001b[0;36mTextFileReader.__init__\u001b[1;34m(self, f, engine, **kwds)\u001b[0m\n\u001b[0;32m   1439\u001b[0m     \u001b[38;5;28mself\u001b[39m\u001b[38;5;241m.\u001b[39moptions[\u001b[38;5;124m\"\u001b[39m\u001b[38;5;124mhas_index_names\u001b[39m\u001b[38;5;124m\"\u001b[39m] \u001b[38;5;241m=\u001b[39m kwds[\u001b[38;5;124m\"\u001b[39m\u001b[38;5;124mhas_index_names\u001b[39m\u001b[38;5;124m\"\u001b[39m]\n\u001b[0;32m   1441\u001b[0m \u001b[38;5;28mself\u001b[39m\u001b[38;5;241m.\u001b[39mhandles: IOHandles \u001b[38;5;241m|\u001b[39m \u001b[38;5;28;01mNone\u001b[39;00m \u001b[38;5;241m=\u001b[39m \u001b[38;5;28;01mNone\u001b[39;00m\n\u001b[1;32m-> 1442\u001b[0m \u001b[38;5;28mself\u001b[39m\u001b[38;5;241m.\u001b[39m_engine \u001b[38;5;241m=\u001b[39m \u001b[38;5;28mself\u001b[39m\u001b[38;5;241m.\u001b[39m_make_engine(f, \u001b[38;5;28mself\u001b[39m\u001b[38;5;241m.\u001b[39mengine)\n",
      "File \u001b[1;32mD:\\Anaconda Enviroment\\A\\Lib\\site-packages\\pandas\\io\\parsers\\readers.py:1735\u001b[0m, in \u001b[0;36mTextFileReader._make_engine\u001b[1;34m(self, f, engine)\u001b[0m\n\u001b[0;32m   1733\u001b[0m     \u001b[38;5;28;01mif\u001b[39;00m \u001b[38;5;124m\"\u001b[39m\u001b[38;5;124mb\u001b[39m\u001b[38;5;124m\"\u001b[39m \u001b[38;5;129;01mnot\u001b[39;00m \u001b[38;5;129;01min\u001b[39;00m mode:\n\u001b[0;32m   1734\u001b[0m         mode \u001b[38;5;241m+\u001b[39m\u001b[38;5;241m=\u001b[39m \u001b[38;5;124m\"\u001b[39m\u001b[38;5;124mb\u001b[39m\u001b[38;5;124m\"\u001b[39m\n\u001b[1;32m-> 1735\u001b[0m \u001b[38;5;28mself\u001b[39m\u001b[38;5;241m.\u001b[39mhandles \u001b[38;5;241m=\u001b[39m get_handle(\n\u001b[0;32m   1736\u001b[0m     f,\n\u001b[0;32m   1737\u001b[0m     mode,\n\u001b[0;32m   1738\u001b[0m     encoding\u001b[38;5;241m=\u001b[39m\u001b[38;5;28mself\u001b[39m\u001b[38;5;241m.\u001b[39moptions\u001b[38;5;241m.\u001b[39mget(\u001b[38;5;124m\"\u001b[39m\u001b[38;5;124mencoding\u001b[39m\u001b[38;5;124m\"\u001b[39m, \u001b[38;5;28;01mNone\u001b[39;00m),\n\u001b[0;32m   1739\u001b[0m     compression\u001b[38;5;241m=\u001b[39m\u001b[38;5;28mself\u001b[39m\u001b[38;5;241m.\u001b[39moptions\u001b[38;5;241m.\u001b[39mget(\u001b[38;5;124m\"\u001b[39m\u001b[38;5;124mcompression\u001b[39m\u001b[38;5;124m\"\u001b[39m, \u001b[38;5;28;01mNone\u001b[39;00m),\n\u001b[0;32m   1740\u001b[0m     memory_map\u001b[38;5;241m=\u001b[39m\u001b[38;5;28mself\u001b[39m\u001b[38;5;241m.\u001b[39moptions\u001b[38;5;241m.\u001b[39mget(\u001b[38;5;124m\"\u001b[39m\u001b[38;5;124mmemory_map\u001b[39m\u001b[38;5;124m\"\u001b[39m, \u001b[38;5;28;01mFalse\u001b[39;00m),\n\u001b[0;32m   1741\u001b[0m     is_text\u001b[38;5;241m=\u001b[39mis_text,\n\u001b[0;32m   1742\u001b[0m     errors\u001b[38;5;241m=\u001b[39m\u001b[38;5;28mself\u001b[39m\u001b[38;5;241m.\u001b[39moptions\u001b[38;5;241m.\u001b[39mget(\u001b[38;5;124m\"\u001b[39m\u001b[38;5;124mencoding_errors\u001b[39m\u001b[38;5;124m\"\u001b[39m, \u001b[38;5;124m\"\u001b[39m\u001b[38;5;124mstrict\u001b[39m\u001b[38;5;124m\"\u001b[39m),\n\u001b[0;32m   1743\u001b[0m     storage_options\u001b[38;5;241m=\u001b[39m\u001b[38;5;28mself\u001b[39m\u001b[38;5;241m.\u001b[39moptions\u001b[38;5;241m.\u001b[39mget(\u001b[38;5;124m\"\u001b[39m\u001b[38;5;124mstorage_options\u001b[39m\u001b[38;5;124m\"\u001b[39m, \u001b[38;5;28;01mNone\u001b[39;00m),\n\u001b[0;32m   1744\u001b[0m )\n\u001b[0;32m   1745\u001b[0m \u001b[38;5;28;01massert\u001b[39;00m \u001b[38;5;28mself\u001b[39m\u001b[38;5;241m.\u001b[39mhandles \u001b[38;5;129;01mis\u001b[39;00m \u001b[38;5;129;01mnot\u001b[39;00m \u001b[38;5;28;01mNone\u001b[39;00m\n\u001b[0;32m   1746\u001b[0m f \u001b[38;5;241m=\u001b[39m \u001b[38;5;28mself\u001b[39m\u001b[38;5;241m.\u001b[39mhandles\u001b[38;5;241m.\u001b[39mhandle\n",
      "File \u001b[1;32mD:\\Anaconda Enviroment\\A\\Lib\\site-packages\\pandas\\io\\common.py:856\u001b[0m, in \u001b[0;36mget_handle\u001b[1;34m(path_or_buf, mode, encoding, compression, memory_map, is_text, errors, storage_options)\u001b[0m\n\u001b[0;32m    851\u001b[0m \u001b[38;5;28;01melif\u001b[39;00m \u001b[38;5;28misinstance\u001b[39m(handle, \u001b[38;5;28mstr\u001b[39m):\n\u001b[0;32m    852\u001b[0m     \u001b[38;5;66;03m# Check whether the filename is to be opened in binary mode.\u001b[39;00m\n\u001b[0;32m    853\u001b[0m     \u001b[38;5;66;03m# Binary mode does not support 'encoding' and 'newline'.\u001b[39;00m\n\u001b[0;32m    854\u001b[0m     \u001b[38;5;28;01mif\u001b[39;00m ioargs\u001b[38;5;241m.\u001b[39mencoding \u001b[38;5;129;01mand\u001b[39;00m \u001b[38;5;124m\"\u001b[39m\u001b[38;5;124mb\u001b[39m\u001b[38;5;124m\"\u001b[39m \u001b[38;5;129;01mnot\u001b[39;00m \u001b[38;5;129;01min\u001b[39;00m ioargs\u001b[38;5;241m.\u001b[39mmode:\n\u001b[0;32m    855\u001b[0m         \u001b[38;5;66;03m# Encoding\u001b[39;00m\n\u001b[1;32m--> 856\u001b[0m         handle \u001b[38;5;241m=\u001b[39m \u001b[38;5;28mopen\u001b[39m(\n\u001b[0;32m    857\u001b[0m             handle,\n\u001b[0;32m    858\u001b[0m             ioargs\u001b[38;5;241m.\u001b[39mmode,\n\u001b[0;32m    859\u001b[0m             encoding\u001b[38;5;241m=\u001b[39mioargs\u001b[38;5;241m.\u001b[39mencoding,\n\u001b[0;32m    860\u001b[0m             errors\u001b[38;5;241m=\u001b[39merrors,\n\u001b[0;32m    861\u001b[0m             newline\u001b[38;5;241m=\u001b[39m\u001b[38;5;124m\"\u001b[39m\u001b[38;5;124m\"\u001b[39m,\n\u001b[0;32m    862\u001b[0m         )\n\u001b[0;32m    863\u001b[0m     \u001b[38;5;28;01melse\u001b[39;00m:\n\u001b[0;32m    864\u001b[0m         \u001b[38;5;66;03m# Binary mode\u001b[39;00m\n\u001b[0;32m    865\u001b[0m         handle \u001b[38;5;241m=\u001b[39m \u001b[38;5;28mopen\u001b[39m(handle, ioargs\u001b[38;5;241m.\u001b[39mmode)\n",
      "\u001b[1;31mFileNotFoundError\u001b[0m: [Errno 2] No such file or directory: 'D:\\\\Network failure classification model using network digital twin\\\\training-data_a.csv'"
     ]
    }
   ],
   "source": [
    "df = pd.read_csv(r'E:\\Network failure classification model using network digital twin\\training-data_a.csv')"
   ]
  },
  {
   "cell_type": "code",
   "execution_count": null,
   "id": "68bc6d22",
   "metadata": {},
   "outputs": [],
   "source": [
    "df.info()"
   ]
  },
  {
   "cell_type": "code",
   "execution_count": null,
   "id": "9b521e84",
   "metadata": {},
   "outputs": [],
   "source": [
    "df.head()"
   ]
  },
  {
   "cell_type": "code",
   "execution_count": null,
   "id": "9166c6b6",
   "metadata": {},
   "outputs": [],
   "source": [
    "df.dtypes"
   ]
  },
  {
   "cell_type": "code",
   "execution_count": null,
   "id": "5ce9493d",
   "metadata": {},
   "outputs": [],
   "source": [
    "df_c = pd.read_csv(r'E:\\Network failure classification model using network digital twin\\training-data_c.csv')"
   ]
  },
  {
   "cell_type": "code",
   "execution_count": null,
   "id": "54b73da3",
   "metadata": {},
   "outputs": [],
   "source": [
    "df_c.head()"
   ]
  },
  {
   "cell_type": "code",
   "execution_count": null,
   "id": "83512e16",
   "metadata": {},
   "outputs": [],
   "source": [
    "del df_c['time']\n",
    "del df_c['source_name']\n",
    "del df_c['upfx7_per-core-stats.per-core-stat.user_value']"
   ]
  },
  {
   "cell_type": "code",
   "execution_count": null,
   "id": "8e52618c",
   "metadata": {},
   "outputs": [],
   "source": [
    "df_c.head()"
   ]
  },
  {
   "cell_type": "code",
   "execution_count": null,
   "id": "fb94fe33",
   "metadata": {},
   "outputs": [],
   "source": [
    "df_c.tail()"
   ]
  },
  {
   "cell_type": "code",
   "execution_count": null,
   "id": "96623c0c",
   "metadata": {},
   "outputs": [],
   "source": [
    "df_c['y_true(fc)'].value_counts()"
   ]
  },
  {
   "cell_type": "code",
   "execution_count": null,
   "id": "0c31c18d",
   "metadata": {},
   "outputs": [],
   "source": [
    "from sklearn.preprocessing import LabelEncoder"
   ]
  },
  {
   "cell_type": "code",
   "execution_count": null,
   "id": "c842e022",
   "metadata": {},
   "outputs": [],
   "source": [
    "le = LabelEncoder()\n",
    "label = le.fit_transform(df_c['y_true(fc)'])\n",
    "df_c[\"y_true(fc)\"] = label"
   ]
  },
  {
   "cell_type": "code",
   "execution_count": null,
   "id": "bd72b432",
   "metadata": {},
   "outputs": [],
   "source": [
    "df_c[\"y_true(fc)\"].value_counts()"
   ]
  },
  {
   "cell_type": "code",
   "execution_count": null,
   "id": "fd63e1e7",
   "metadata": {},
   "outputs": [],
   "source": [
    "import pandas as pd\n",
    "import numpy as np\n",
    "from sklearn.model_selection import cross_val_score\n",
    "from xgboost import XGBClassifier, XGBRFClassifier\n",
    "from sklearn.ensemble import RandomForestClassifier, StackingClassifier\n",
    "from sklearn.linear_model import LogisticRegression\n",
    "from sklearn.model_selection import train_test_split, StratifiedKFold\n",
    "from sklearn.metrics import accuracy_score\n",
    "from sklearn.ensemble import VotingClassifier\n",
    "# Silence warnings\n",
    "import warnings\n",
    "warnings.filterwarnings('ignore')"
   ]
  },
  {
   "cell_type": "code",
   "execution_count": 24,
   "id": "ca4d7628",
   "metadata": {},
   "outputs": [],
   "source": [
    "X = df_c.drop('y_true(fc)', axis=1)\n",
    "y = df_c[\"y_true(fc)\"]"
   ]
  },
  {
   "cell_type": "code",
   "execution_count": 33,
   "id": "02306673",
   "metadata": {},
   "outputs": [
    {
     "data": {
      "text/plain": [
       "0      10\n",
       "1      15\n",
       "2       3\n",
       "3      10\n",
       "4      10\n",
       "       ..\n",
       "455    10\n",
       "456    10\n",
       "457    10\n",
       "458    15\n",
       "459     6\n",
       "Name: y_true(fc), Length: 460, dtype: int32"
      ]
     },
     "execution_count": 33,
     "metadata": {},
     "output_type": "execute_result"
    }
   ],
   "source": [
    "y"
   ]
  },
  {
   "cell_type": "code",
   "execution_count": 26,
   "id": "04af91d0",
   "metadata": {},
   "outputs": [],
   "source": [
    "kfold = StratifiedKFold(n_splits=5)\n",
    "from sklearn.model_selection import cross_val_score\n",
    "\n",
    "def classification_model(model):\n",
    "    scores = cross_val_score(model, X, y, cv=kfold)\n",
    "    return scores.mean()"
   ]
  },
  {
   "cell_type": "code",
   "execution_count": 27,
   "id": "4c6f4f6b",
   "metadata": {},
   "outputs": [
    {
     "data": {
      "text/plain": [
       "0.9173913043478261"
      ]
     },
     "execution_count": 27,
     "metadata": {},
     "output_type": "execute_result"
    }
   ],
   "source": [
    "classification_model(XGBClassifier())"
   ]
  },
  {
   "cell_type": "code",
   "execution_count": 28,
   "id": "4afe42be",
   "metadata": {},
   "outputs": [
    {
     "data": {
      "text/plain": [
       "0.6934782608695652"
      ]
     },
     "execution_count": 28,
     "metadata": {},
     "output_type": "execute_result"
    }
   ],
   "source": [
    "classification_model(XGBClassifier(booster='gblinear'))"
   ]
  },
  {
   "cell_type": "code",
   "execution_count": 29,
   "id": "9510e4ca",
   "metadata": {},
   "outputs": [
    {
     "data": {
      "text/plain": [
       "0.9217391304347826"
      ]
     },
     "execution_count": 29,
     "metadata": {},
     "output_type": "execute_result"
    }
   ],
   "source": [
    "classification_model(XGBClassifier(booster='dart', one_drop=True))"
   ]
  },
  {
   "cell_type": "code",
   "execution_count": 30,
   "id": "afdb0ead",
   "metadata": {},
   "outputs": [
    {
     "data": {
      "text/plain": [
       "0.8282608695652174"
      ]
     },
     "execution_count": 30,
     "metadata": {},
     "output_type": "execute_result"
    }
   ],
   "source": [
    "classification_model(RandomForestClassifier(random_state=2))"
   ]
  },
  {
   "cell_type": "code",
   "execution_count": 31,
   "id": "bdf5e058",
   "metadata": {},
   "outputs": [
    {
     "data": {
      "text/plain": [
       "0.6891304347826087"
      ]
     },
     "execution_count": 31,
     "metadata": {},
     "output_type": "execute_result"
    }
   ],
   "source": [
    "classification_model(LogisticRegression(max_iter=10000))"
   ]
  },
  {
   "cell_type": "code",
   "execution_count": 32,
   "id": "e1a32af7",
   "metadata": {},
   "outputs": [
    {
     "data": {
      "text/plain": [
       "0.923913043478261"
      ]
     },
     "execution_count": 32,
     "metadata": {},
     "output_type": "execute_result"
    }
   ],
   "source": [
    "classification_model(XGBClassifier(n_estimators=800, max_depth=4, colsample_bylevel=0.8))"
   ]
  },
  {
   "cell_type": "code",
   "execution_count": 35,
   "id": "961e398f",
   "metadata": {},
   "outputs": [],
   "source": [
    "X_train, X_test, y_train, y_test = train_test_split(X, y, random_state=2)"
   ]
  },
  {
   "cell_type": "code",
   "execution_count": 36,
   "id": "1377f705",
   "metadata": {},
   "outputs": [],
   "source": [
    "def y_pred(model):\n",
    "    model.fit(X_train, y_train)\n",
    "    y_pred = model.predict(X_test)\n",
    "    score = accuracy_score(y_pred, y_test)\n",
    "    print(score)\n",
    "    return y_pred"
   ]
  },
  {
   "cell_type": "code",
   "execution_count": 37,
   "id": "f88b76a2",
   "metadata": {},
   "outputs": [
    {
     "name": "stdout",
     "output_type": "stream",
     "text": [
      "0.8695652173913043\n"
     ]
    }
   ],
   "source": [
    "y_pred_gbtree = y_pred(XGBClassifier())"
   ]
  },
  {
   "cell_type": "code",
   "execution_count": 38,
   "id": "1bf42ea6",
   "metadata": {},
   "outputs": [
    {
     "name": "stdout",
     "output_type": "stream",
     "text": [
      "0.8782608695652174\n"
     ]
    }
   ],
   "source": [
    "y_pred_dart = y_pred(XGBClassifier(booster='dart', one_drop=True))"
   ]
  },
  {
   "cell_type": "code",
   "execution_count": 39,
   "id": "ad13ba7d",
   "metadata": {},
   "outputs": [
    {
     "name": "stdout",
     "output_type": "stream",
     "text": [
      "0.8173913043478261\n"
     ]
    }
   ],
   "source": [
    "y_pred_forest = y_pred(RandomForestClassifier(random_state=2))"
   ]
  },
  {
   "cell_type": "code",
   "execution_count": 40,
   "id": "c553ffd3",
   "metadata": {},
   "outputs": [
    {
     "name": "stdout",
     "output_type": "stream",
     "text": [
      "0.6782608695652174\n"
     ]
    }
   ],
   "source": [
    "y_pred_logistic = y_pred(LogisticRegression(max_iter=10000))"
   ]
  },
  {
   "cell_type": "code",
   "execution_count": 41,
   "id": "c90e2fc5",
   "metadata": {},
   "outputs": [
    {
     "name": "stdout",
     "output_type": "stream",
     "text": [
      "0.8782608695652174\n"
     ]
    }
   ],
   "source": [
    "y_pred_xgb = y_pred(XGBClassifier(max_depth=2, n_estimators=500, learning_rate=0.1))"
   ]
  },
  {
   "cell_type": "code",
   "execution_count": 42,
   "id": "6e46a522",
   "metadata": {},
   "outputs": [],
   "source": [
    "df_pred = pd.DataFrame(data= np.c_[y_pred_gbtree, y_pred_dart, y_pred_forest, y_pred_logistic, y_pred_xgb],  columns=['gbtree', 'dart', 'forest', 'logistic', 'xgb'])"
   ]
  },
  {
   "cell_type": "code",
   "execution_count": 43,
   "id": "cce51c5c",
   "metadata": {},
   "outputs": [
    {
     "data": {
      "text/html": [
       "<div>\n",
       "<style scoped>\n",
       "    .dataframe tbody tr th:only-of-type {\n",
       "        vertical-align: middle;\n",
       "    }\n",
       "\n",
       "    .dataframe tbody tr th {\n",
       "        vertical-align: top;\n",
       "    }\n",
       "\n",
       "    .dataframe thead th {\n",
       "        text-align: right;\n",
       "    }\n",
       "</style>\n",
       "<table border=\"1\" class=\"dataframe\">\n",
       "  <thead>\n",
       "    <tr style=\"text-align: right;\">\n",
       "      <th></th>\n",
       "      <th>gbtree</th>\n",
       "      <th>dart</th>\n",
       "      <th>forest</th>\n",
       "      <th>logistic</th>\n",
       "      <th>xgb</th>\n",
       "    </tr>\n",
       "  </thead>\n",
       "  <tbody>\n",
       "    <tr>\n",
       "      <th>gbtree</th>\n",
       "      <td>1.000000</td>\n",
       "      <td>0.983850</td>\n",
       "      <td>0.699115</td>\n",
       "      <td>0.204184</td>\n",
       "      <td>0.970680</td>\n",
       "    </tr>\n",
       "    <tr>\n",
       "      <th>dart</th>\n",
       "      <td>0.983850</td>\n",
       "      <td>1.000000</td>\n",
       "      <td>0.722418</td>\n",
       "      <td>0.177248</td>\n",
       "      <td>0.985544</td>\n",
       "    </tr>\n",
       "    <tr>\n",
       "      <th>forest</th>\n",
       "      <td>0.699115</td>\n",
       "      <td>0.722418</td>\n",
       "      <td>1.000000</td>\n",
       "      <td>0.218166</td>\n",
       "      <td>0.722987</td>\n",
       "    </tr>\n",
       "    <tr>\n",
       "      <th>logistic</th>\n",
       "      <td>0.204184</td>\n",
       "      <td>0.177248</td>\n",
       "      <td>0.218166</td>\n",
       "      <td>1.000000</td>\n",
       "      <td>0.208713</td>\n",
       "    </tr>\n",
       "    <tr>\n",
       "      <th>xgb</th>\n",
       "      <td>0.970680</td>\n",
       "      <td>0.985544</td>\n",
       "      <td>0.722987</td>\n",
       "      <td>0.208713</td>\n",
       "      <td>1.000000</td>\n",
       "    </tr>\n",
       "  </tbody>\n",
       "</table>\n",
       "</div>"
      ],
      "text/plain": [
       "            gbtree      dart    forest  logistic       xgb\n",
       "gbtree    1.000000  0.983850  0.699115  0.204184  0.970680\n",
       "dart      0.983850  1.000000  0.722418  0.177248  0.985544\n",
       "forest    0.699115  0.722418  1.000000  0.218166  0.722987\n",
       "logistic  0.204184  0.177248  0.218166  1.000000  0.208713\n",
       "xgb       0.970680  0.985544  0.722987  0.208713  1.000000"
      ]
     },
     "execution_count": 43,
     "metadata": {},
     "output_type": "execute_result"
    }
   ],
   "source": [
    "df_pred.corr()"
   ]
  },
  {
   "cell_type": "code",
   "execution_count": 44,
   "id": "2412e276",
   "metadata": {},
   "outputs": [
    {
     "name": "stdout",
     "output_type": "stream",
     "text": [
      "0.8565217391304347\n"
     ]
    }
   ],
   "source": [
    "estimators = []\n",
    "logistic_model = LogisticRegression(max_iter=10000)\n",
    "estimators.append(('logistic', logistic_model))\n",
    "xgb_model = XGBClassifier(max_depth=2, n_estimators=500, learning_rate=0.1)\n",
    "estimators.append(('xgb', xgb_model))\n",
    "rf_model = RandomForestClassifier(random_state=2)\n",
    "estimators.append(('rf', rf_model))\n",
    "ensemble = VotingClassifier(estimators)\n",
    "scores = cross_val_score(ensemble, X, y, cv=kfold)\n",
    "print(scores.mean())"
   ]
  },
  {
   "cell_type": "code",
   "execution_count": 45,
   "id": "309134ea",
   "metadata": {},
   "outputs": [
    {
     "name": "stdout",
     "output_type": "stream",
     "text": [
      "0.9065217391304348\n"
     ]
    }
   ],
   "source": [
    "base_models = []\n",
    "base_models.append(('lr', LogisticRegression()))\n",
    "base_models.append(('xgb', XGBClassifier()))\n",
    "base_models.append(('rf', RandomForestClassifier(random_state=2)))\n",
    "# define meta learner model\n",
    "meta_model = LogisticRegression()\n",
    "# define the stacking ensemble\n",
    "clf = StackingClassifier(estimators=base_models, final_estimator=meta_model)\n",
    "scores = cross_val_score(clf, X, y, cv=kfold)\n",
    "print(scores.mean())"
   ]
  },
  {
   "cell_type": "code",
   "execution_count": 46,
   "id": "2425d985",
   "metadata": {},
   "outputs": [],
   "source": [
    "from sklearn.model_selection import train_test_split, KFold, cross_val_score, GridSearchCV\n",
    "from sklearn.linear_model import LogisticRegression\n",
    "from sklearn.tree import DecisionTreeClassifier\n",
    "from sklearn.neighbors import KNeighborsClassifier\n",
    "from sklearn.discriminant_analysis import LinearDiscriminantAnalysis\n",
    "from sklearn.naive_bayes import GaussianNB\n",
    "from sklearn.svm import SVC\n",
    "from sklearn.neural_network import MLPClassifier\n",
    "from sklearn.pipeline import Pipeline\n",
    "from sklearn.ensemble import AdaBoostClassifier, GradientBoostingClassifier, RandomForestClassifier, ExtraTreesClassifier\n",
    "from sklearn.metrics import classification_report, confusion_matrix, accuracy_score"
   ]
  },
  {
   "cell_type": "code",
   "execution_count": 49,
   "id": "162fe55b",
   "metadata": {},
   "outputs": [],
   "source": [
    "validation_size = 0.2"
   ]
  },
  {
   "cell_type": "code",
   "execution_count": 50,
   "id": "0389a354",
   "metadata": {},
   "outputs": [],
   "source": [
    "X_train, X_validation, Y_train, Y_validation = train_test_split(X, y, test_size=validation_size, random_state=7)"
   ]
  },
  {
   "cell_type": "code",
   "execution_count": 51,
   "id": "0d5ce6ad",
   "metadata": {},
   "outputs": [],
   "source": [
    "scoring = 'accuracy'"
   ]
  },
  {
   "cell_type": "code",
   "execution_count": 52,
   "id": "0c0f5173",
   "metadata": {},
   "outputs": [],
   "source": [
    "num_folds = 10\n",
    "seed = 7"
   ]
  },
  {
   "cell_type": "code",
   "execution_count": 53,
   "id": "b01c18e0",
   "metadata": {},
   "outputs": [],
   "source": [
    "models = []\n",
    "models.append(('LR', LogisticRegression()))\n",
    "models.append(('LDA', LinearDiscriminantAnalysis()))\n",
    "models.append(('KNN', KNeighborsClassifier()))\n",
    "models.append(('CART', DecisionTreeClassifier()))\n"
   ]
  },
  {
   "cell_type": "code",
   "execution_count": 55,
   "id": "c85175f5",
   "metadata": {},
   "outputs": [
    {
     "name": "stdout",
     "output_type": "stream",
     "text": [
      "LR: 0.236486 (0.085680)\n",
      "LDA: 0.611637 (0.068639)\n",
      "KNN: nan (nan)\n",
      "CART: 0.864489 (0.066938)\n"
     ]
    }
   ],
   "source": [
    "results = []\n",
    "names = []\n",
    "for name, model in models:\n",
    "    kfold = KFold(n_splits=num_folds, shuffle=True)\n",
    "    cv_results = cross_val_score(model, X_train, Y_train, cv=kfold, scoring=scoring)\n",
    "    results.append(cv_results)\n",
    "    names.append(name)\n",
    "    msg = \"%s: %f (%f)\" % (name, cv_results.mean(), cv_results.std())\n",
    "    print(msg)"
   ]
  },
  {
   "cell_type": "code",
   "execution_count": 57,
   "id": "51a0b107",
   "metadata": {},
   "outputs": [
    {
     "data": {
      "text/html": [
       "<style>#sk-container-id-1 {color: black;background-color: white;}#sk-container-id-1 pre{padding: 0;}#sk-container-id-1 div.sk-toggleable {background-color: white;}#sk-container-id-1 label.sk-toggleable__label {cursor: pointer;display: block;width: 100%;margin-bottom: 0;padding: 0.3em;box-sizing: border-box;text-align: center;}#sk-container-id-1 label.sk-toggleable__label-arrow:before {content: \"▸\";float: left;margin-right: 0.25em;color: #696969;}#sk-container-id-1 label.sk-toggleable__label-arrow:hover:before {color: black;}#sk-container-id-1 div.sk-estimator:hover label.sk-toggleable__label-arrow:before {color: black;}#sk-container-id-1 div.sk-toggleable__content {max-height: 0;max-width: 0;overflow: hidden;text-align: left;background-color: #f0f8ff;}#sk-container-id-1 div.sk-toggleable__content pre {margin: 0.2em;color: black;border-radius: 0.25em;background-color: #f0f8ff;}#sk-container-id-1 input.sk-toggleable__control:checked~div.sk-toggleable__content {max-height: 200px;max-width: 100%;overflow: auto;}#sk-container-id-1 input.sk-toggleable__control:checked~label.sk-toggleable__label-arrow:before {content: \"▾\";}#sk-container-id-1 div.sk-estimator input.sk-toggleable__control:checked~label.sk-toggleable__label {background-color: #d4ebff;}#sk-container-id-1 div.sk-label input.sk-toggleable__control:checked~label.sk-toggleable__label {background-color: #d4ebff;}#sk-container-id-1 input.sk-hidden--visually {border: 0;clip: rect(1px 1px 1px 1px);clip: rect(1px, 1px, 1px, 1px);height: 1px;margin: -1px;overflow: hidden;padding: 0;position: absolute;width: 1px;}#sk-container-id-1 div.sk-estimator {font-family: monospace;background-color: #f0f8ff;border: 1px dotted black;border-radius: 0.25em;box-sizing: border-box;margin-bottom: 0.5em;}#sk-container-id-1 div.sk-estimator:hover {background-color: #d4ebff;}#sk-container-id-1 div.sk-parallel-item::after {content: \"\";width: 100%;border-bottom: 1px solid gray;flex-grow: 1;}#sk-container-id-1 div.sk-label:hover label.sk-toggleable__label {background-color: #d4ebff;}#sk-container-id-1 div.sk-serial::before {content: \"\";position: absolute;border-left: 1px solid gray;box-sizing: border-box;top: 0;bottom: 0;left: 50%;z-index: 0;}#sk-container-id-1 div.sk-serial {display: flex;flex-direction: column;align-items: center;background-color: white;padding-right: 0.2em;padding-left: 0.2em;position: relative;}#sk-container-id-1 div.sk-item {position: relative;z-index: 1;}#sk-container-id-1 div.sk-parallel {display: flex;align-items: stretch;justify-content: center;background-color: white;position: relative;}#sk-container-id-1 div.sk-item::before, #sk-container-id-1 div.sk-parallel-item::before {content: \"\";position: absolute;border-left: 1px solid gray;box-sizing: border-box;top: 0;bottom: 0;left: 50%;z-index: -1;}#sk-container-id-1 div.sk-parallel-item {display: flex;flex-direction: column;z-index: 1;position: relative;background-color: white;}#sk-container-id-1 div.sk-parallel-item:first-child::after {align-self: flex-end;width: 50%;}#sk-container-id-1 div.sk-parallel-item:last-child::after {align-self: flex-start;width: 50%;}#sk-container-id-1 div.sk-parallel-item:only-child::after {width: 0;}#sk-container-id-1 div.sk-dashed-wrapped {border: 1px dashed gray;margin: 0 0.4em 0.5em 0.4em;box-sizing: border-box;padding-bottom: 0.4em;background-color: white;}#sk-container-id-1 div.sk-label label {font-family: monospace;font-weight: bold;display: inline-block;line-height: 1.2em;}#sk-container-id-1 div.sk-label-container {text-align: center;}#sk-container-id-1 div.sk-container {/* jupyter's `normalize.less` sets `[hidden] { display: none; }` but bootstrap.min.css set `[hidden] { display: none !important; }` so we also need the `!important` here to be able to override the default hidden behavior on the sphinx rendered scikit-learn.org. See: https://github.com/scikit-learn/scikit-learn/issues/21755 */display: inline-block !important;position: relative;}#sk-container-id-1 div.sk-text-repr-fallback {display: none;}</style><div id=\"sk-container-id-1\" class=\"sk-top-container\"><div class=\"sk-text-repr-fallback\"><pre>DecisionTreeClassifier()</pre><b>In a Jupyter environment, please rerun this cell to show the HTML representation or trust the notebook. <br />On GitHub, the HTML representation is unable to render, please try loading this page with nbviewer.org.</b></div><div class=\"sk-container\" hidden><div class=\"sk-item\"><div class=\"sk-estimator sk-toggleable\"><input class=\"sk-toggleable__control sk-hidden--visually\" id=\"sk-estimator-id-1\" type=\"checkbox\" checked><label for=\"sk-estimator-id-1\" class=\"sk-toggleable__label sk-toggleable__label-arrow\">DecisionTreeClassifier</label><div class=\"sk-toggleable__content\"><pre>DecisionTreeClassifier()</pre></div></div></div></div></div>"
      ],
      "text/plain": [
       "DecisionTreeClassifier()"
      ]
     },
     "execution_count": 57,
     "metadata": {},
     "output_type": "execute_result"
    }
   ],
   "source": [
    "model = DecisionTreeClassifier()\n",
    "model.fit(X_train, Y_train)"
   ]
  },
  {
   "cell_type": "code",
   "execution_count": 60,
   "id": "048904b3",
   "metadata": {
    "scrolled": true
   },
   "outputs": [
    {
     "name": "stdout",
     "output_type": "stream",
     "text": [
      "0.9021739130434783\n",
      "              precision    recall  f1-score   support\n",
      "\n",
      "           0       0.00      0.00      0.00         3\n",
      "           1       1.00      1.00      1.00         2\n",
      "           2       1.00      1.00      1.00         2\n",
      "           3       1.00      1.00      1.00         3\n",
      "           4       1.00      1.00      1.00         2\n",
      "           5       0.40      0.67      0.50         3\n",
      "           6       1.00      1.00      1.00         2\n",
      "           7       1.00      1.00      1.00         4\n",
      "           8       1.00      1.00      1.00         2\n",
      "           9       1.00      1.00      1.00         2\n",
      "          10       0.98      0.98      0.98        56\n",
      "          11       0.00      0.00      0.00         2\n",
      "          12       0.75      0.75      0.75         4\n",
      "          13       0.50      0.50      0.50         2\n",
      "          14       1.00      1.00      1.00         1\n",
      "          15       1.00      1.00      1.00         2\n",
      "\n",
      "    accuracy                           0.90        92\n",
      "   macro avg       0.79      0.81      0.80        92\n",
      "weighted avg       0.89      0.90      0.90        92\n",
      "\n"
     ]
    }
   ],
   "source": [
    "rescaledValidationX = X_validation\n",
    "predictions = model.predict(rescaledValidationX)\n",
    "print(accuracy_score(Y_validation, predictions))\n",
    "print(classification_report(Y_validation, predictions))"
   ]
  },
  {
   "cell_type": "code",
   "execution_count": 61,
   "id": "16161724",
   "metadata": {},
   "outputs": [],
   "source": [
    "models = []\n",
    "models.append(('LR', LogisticRegression()))\n",
    "models.append(('LDA', LinearDiscriminantAnalysis()))\n",
    "models.append(('KNN', KNeighborsClassifier()))\n",
    "models.append(('CART', DecisionTreeClassifier()))\n",
    "models.append(('NB', GaussianNB()))\n",
    "models.append(('SVM', SVC()))\n",
    "models.append(('NN', MLPClassifier()))\n",
    "models.append(('AB', AdaBoostClassifier()))\n",
    "models.append(('GBM', GradientBoostingClassifier()))\n",
    "models.append(('RF', RandomForestClassifier()))\n",
    "models.append(('ET', ExtraTreesClassifier()))"
   ]
  },
  {
   "cell_type": "code",
   "execution_count": 63,
   "id": "bbc817be",
   "metadata": {},
   "outputs": [
    {
     "name": "stdout",
     "output_type": "stream",
     "text": [
      "LR: 0.241967 (0.051528)\n",
      "LDA: 0.572297 (0.129611)\n",
      "KNN: nan (nan)\n",
      "CART: 0.885736 (0.059881)\n",
      "NB: 0.155030 (0.046012)\n",
      "SVM: 0.690090 (0.067934)\n",
      "NN: 0.486336 (0.066020)\n",
      "AB: 0.774474 (0.046744)\n",
      "GBM: 0.869670 (0.039516)\n",
      "RF: 0.820571 (0.079160)\n",
      "ET: 0.823273 (0.044738)\n"
     ]
    }
   ],
   "source": [
    "results = []\n",
    "names = []\n",
    "for name, model in models:\n",
    "    kfold = KFold(n_splits=num_folds, shuffle=True)\n",
    "    cv_results = cross_val_score(model, X_train, Y_train, cv=kfold, scoring=scoring)\n",
    "    results.append(cv_results)\n",
    "    names.append(name)\n",
    "    msg = \"%s: %f (%f)\" % (name, cv_results.mean(), cv_results.std())\n",
    "    print(msg)"
   ]
  },
  {
   "cell_type": "code",
   "execution_count": 67,
   "id": "634d9b26",
   "metadata": {},
   "outputs": [],
   "source": [
    "from keras.wrappers.scikit_learn import KerasClassifier"
   ]
  },
  {
   "cell_type": "code",
   "execution_count": 68,
   "id": "a1108571",
   "metadata": {},
   "outputs": [],
   "source": [
    "EnableDLModelsFlag = 1\n",
    "if EnableDLModelsFlag == 1 :   \n",
    "    # Function to create model, required for KerasClassifier\n",
    "    def create_model(neurons=12, activation='relu', learn_rate = 0.01, momentum=0):\n",
    "        # create model\n",
    "        model = Sequential()\n",
    "        model.add(Dense(X_train.shape[1], input_dim=X_train.shape[1], activation=activation))\n",
    "        model.add(Dense(32, activation=activation))\n",
    "        model.add(Dense(1, activation='sigmoid'))\n",
    "        # Compile model\n",
    "        optimizer = SGD(lr=learn_rate, momentum=momentum)\n",
    "        model.compile(loss='binary_crossentropy', optimizer='adam', metrics=['accuracy'])\n",
    "        return model    \n",
    "    models.append(('DNN', KerasClassifier(build_fn=create_model, epochs=50, batch_size=10, verbose=0)))"
   ]
  },
  {
   "cell_type": "code",
   "execution_count": 69,
   "id": "3e674421",
   "metadata": {},
   "outputs": [],
   "source": [
    "# spot check the algorithms\n",
    "models = []\n",
    "models.append(('LR', LogisticRegression()))\n",
    "models.append(('LDA', LinearDiscriminantAnalysis()))\n",
    "models.append(('KNN', KNeighborsClassifier()))\n",
    "models.append(('CART', DecisionTreeClassifier()))\n",
    "models.append(('NB', GaussianNB()))\n",
    "models.append(('SVM', SVC()))\n",
    "#Neural Network\n",
    "models.append(('NN', MLPClassifier()))\n",
    "# #Ensable Models \n",
    "# Boosting methods\n",
    "models.append(('AB', AdaBoostClassifier()))\n",
    "models.append(('GBM', GradientBoostingClassifier()))\n",
    "# Bagging methods\n",
    "models.append(('RF', RandomForestClassifier()))\n",
    "models.append(('ET', ExtraTreesClassifier()))"
   ]
  },
  {
   "cell_type": "code",
   "execution_count": 81,
   "id": "6f3135f1",
   "metadata": {},
   "outputs": [
    {
     "name": "stdout",
     "output_type": "stream",
     "text": [
      "0.9021739130434783\n"
     ]
    }
   ],
   "source": [
    "base_models = []\n",
    "base_models.append(('lr', LogisticRegression()))\n",
    "base_models.append(('xgb', XGBClassifier()))\n",
    "base_models.append(('rf', RandomForestClassifier(random_state=2)))\n",
    "meta_model = LogisticRegression()\n",
    "clf = StackingClassifier(estimators=base_models, final_estimator=meta_model)\n",
    "scores = cross_val_score(clf, X, y, cv=kfold)\n",
    "print(scores.mean())"
   ]
  },
  {
   "cell_type": "code",
   "execution_count": 34,
   "id": "dff263b8",
   "metadata": {},
   "outputs": [],
   "source": [
    "import pandas as pd "
   ]
  },
  {
   "cell_type": "code",
   "execution_count": 35,
   "id": "d33ad291",
   "metadata": {},
   "outputs": [],
   "source": [
    "dfc = pd.read_csv(r'C:\\Users\\Jazzy RIG\\OneDrive - Double Queue\\Machine learning Comps\\Network failure classification model using network digital twin\\training-data_c.csv')"
   ]
  },
  {
   "cell_type": "code",
   "execution_count": 36,
   "id": "c42b758a",
   "metadata": {},
   "outputs": [
    {
     "data": {
      "text/html": [
       "<div>\n",
       "<style scoped>\n",
       "    .dataframe tbody tr th:only-of-type {\n",
       "        vertical-align: middle;\n",
       "    }\n",
       "\n",
       "    .dataframe tbody tr th {\n",
       "        vertical-align: top;\n",
       "    }\n",
       "\n",
       "    .dataframe thead th {\n",
       "        text-align: right;\n",
       "    }\n",
       "</style>\n",
       "<table border=\"1\" class=\"dataframe\">\n",
       "  <thead>\n",
       "    <tr style=\"text-align: right;\">\n",
       "      <th></th>\n",
       "      <th>time</th>\n",
       "      <th>source_name</th>\n",
       "      <th>y_true(fc)</th>\n",
       "      <th>amfx1_ens3_oper-status</th>\n",
       "      <th>amfx1_ens3_phys-address</th>\n",
       "      <th>amfx1_ens3_speed</th>\n",
       "      <th>amfx1_ens3_statistics.in-octets</th>\n",
       "      <th>amfx1_ens3_statistics.in-unicast-pkts</th>\n",
       "      <th>amfx1_ens3_statistics.out-octets</th>\n",
       "      <th>amfx1_ens3_statistics.out-unicast-pkts</th>\n",
       "      <th>...</th>\n",
       "      <th>upfx7_memory-stats.free-percent_value</th>\n",
       "      <th>upfx7_memory-stats.memory-status_value</th>\n",
       "      <th>upfx7_memory-stats.used-number_value</th>\n",
       "      <th>upfx7_memory-stats.used-percent_value</th>\n",
       "      <th>upfx7_per-core-stats.per-core-stat.idle_value</th>\n",
       "      <th>upfx7_per-core-stats.per-core-stat.io-wait_value</th>\n",
       "      <th>upfx7_per-core-stats.per-core-stat.nice_value</th>\n",
       "      <th>upfx7_per-core-stats.per-core-stat.sirq_value</th>\n",
       "      <th>upfx7_per-core-stats.per-core-stat.system_value</th>\n",
       "      <th>upfx7_per-core-stats.per-core-stat.user_value</th>\n",
       "    </tr>\n",
       "  </thead>\n",
       "  <tbody>\n",
       "    <tr>\n",
       "      <th>0</th>\n",
       "      <td>20210128175112-4_20210128175200</td>\n",
       "      <td>network-5gc-c</td>\n",
       "      <td>normal</td>\n",
       "      <td>0</td>\n",
       "      <td>0</td>\n",
       "      <td>0</td>\n",
       "      <td>1</td>\n",
       "      <td>1</td>\n",
       "      <td>1</td>\n",
       "      <td>1</td>\n",
       "      <td>...</td>\n",
       "      <td>8</td>\n",
       "      <td>0</td>\n",
       "      <td>-148496</td>\n",
       "      <td>-8</td>\n",
       "      <td>-0.095</td>\n",
       "      <td>0.18</td>\n",
       "      <td>0</td>\n",
       "      <td>0.0</td>\n",
       "      <td>0.045</td>\n",
       "      <td>-4.500000e-02</td>\n",
       "    </tr>\n",
       "    <tr>\n",
       "      <th>1</th>\n",
       "      <td>20210128175529-6_20210128175610</td>\n",
       "      <td>network-5gc-c</td>\n",
       "      <td>udmx1_vcpu-overload-start</td>\n",
       "      <td>0</td>\n",
       "      <td>0</td>\n",
       "      <td>0</td>\n",
       "      <td>1</td>\n",
       "      <td>1</td>\n",
       "      <td>1</td>\n",
       "      <td>1</td>\n",
       "      <td>...</td>\n",
       "      <td>0</td>\n",
       "      <td>0</td>\n",
       "      <td>-24</td>\n",
       "      <td>0</td>\n",
       "      <td>-0.095</td>\n",
       "      <td>0.02</td>\n",
       "      <td>0</td>\n",
       "      <td>0.0</td>\n",
       "      <td>0.010</td>\n",
       "      <td>8.000000e-02</td>\n",
       "    </tr>\n",
       "    <tr>\n",
       "      <th>2</th>\n",
       "      <td>20210128175945-8_20210128180030</td>\n",
       "      <td>network-5gc-c</td>\n",
       "      <td>amfx1_memory-stress-start</td>\n",
       "      <td>0</td>\n",
       "      <td>0</td>\n",
       "      <td>0</td>\n",
       "      <td>1</td>\n",
       "      <td>1</td>\n",
       "      <td>1</td>\n",
       "      <td>1</td>\n",
       "      <td>...</td>\n",
       "      <td>-1</td>\n",
       "      <td>0</td>\n",
       "      <td>4092</td>\n",
       "      <td>1</td>\n",
       "      <td>-0.100</td>\n",
       "      <td>0.00</td>\n",
       "      <td>0</td>\n",
       "      <td>0.0</td>\n",
       "      <td>0.100</td>\n",
       "      <td>4.160000e-17</td>\n",
       "    </tr>\n",
       "    <tr>\n",
       "      <th>3</th>\n",
       "      <td>20210128180403-10_20210128180450</td>\n",
       "      <td>network-5gc-c</td>\n",
       "      <td>normal</td>\n",
       "      <td>0</td>\n",
       "      <td>0</td>\n",
       "      <td>0</td>\n",
       "      <td>1</td>\n",
       "      <td>1</td>\n",
       "      <td>1</td>\n",
       "      <td>1</td>\n",
       "      <td>...</td>\n",
       "      <td>0</td>\n",
       "      <td>0</td>\n",
       "      <td>244</td>\n",
       "      <td>0</td>\n",
       "      <td>0.350</td>\n",
       "      <td>-0.02</td>\n",
       "      <td>0</td>\n",
       "      <td>0.0</td>\n",
       "      <td>-0.030</td>\n",
       "      <td>-3.100000e-01</td>\n",
       "    </tr>\n",
       "    <tr>\n",
       "      <th>4</th>\n",
       "      <td>20210128180817-12_20210128180900</td>\n",
       "      <td>network-5gc-c</td>\n",
       "      <td>normal</td>\n",
       "      <td>0</td>\n",
       "      <td>0</td>\n",
       "      <td>0</td>\n",
       "      <td>1</td>\n",
       "      <td>1</td>\n",
       "      <td>1</td>\n",
       "      <td>1</td>\n",
       "      <td>...</td>\n",
       "      <td>0</td>\n",
       "      <td>0</td>\n",
       "      <td>160</td>\n",
       "      <td>0</td>\n",
       "      <td>-0.130</td>\n",
       "      <td>0.00</td>\n",
       "      <td>0</td>\n",
       "      <td>0.0</td>\n",
       "      <td>0.140</td>\n",
       "      <td>-5.000000e-03</td>\n",
       "    </tr>\n",
       "  </tbody>\n",
       "</table>\n",
       "<p>5 rows × 4121 columns</p>\n",
       "</div>"
      ],
      "text/plain": [
       "                               time    source_name                 y_true(fc)  \\\n",
       "0   20210128175112-4_20210128175200  network-5gc-c                     normal   \n",
       "1   20210128175529-6_20210128175610  network-5gc-c  udmx1_vcpu-overload-start   \n",
       "2   20210128175945-8_20210128180030  network-5gc-c  amfx1_memory-stress-start   \n",
       "3  20210128180403-10_20210128180450  network-5gc-c                     normal   \n",
       "4  20210128180817-12_20210128180900  network-5gc-c                     normal   \n",
       "\n",
       "   amfx1_ens3_oper-status  amfx1_ens3_phys-address  amfx1_ens3_speed  \\\n",
       "0                       0                        0                 0   \n",
       "1                       0                        0                 0   \n",
       "2                       0                        0                 0   \n",
       "3                       0                        0                 0   \n",
       "4                       0                        0                 0   \n",
       "\n",
       "   amfx1_ens3_statistics.in-octets  amfx1_ens3_statistics.in-unicast-pkts  \\\n",
       "0                                1                                      1   \n",
       "1                                1                                      1   \n",
       "2                                1                                      1   \n",
       "3                                1                                      1   \n",
       "4                                1                                      1   \n",
       "\n",
       "   amfx1_ens3_statistics.out-octets  amfx1_ens3_statistics.out-unicast-pkts  \\\n",
       "0                                 1                                       1   \n",
       "1                                 1                                       1   \n",
       "2                                 1                                       1   \n",
       "3                                 1                                       1   \n",
       "4                                 1                                       1   \n",
       "\n",
       "   ...  upfx7_memory-stats.free-percent_value  \\\n",
       "0  ...                                      8   \n",
       "1  ...                                      0   \n",
       "2  ...                                     -1   \n",
       "3  ...                                      0   \n",
       "4  ...                                      0   \n",
       "\n",
       "   upfx7_memory-stats.memory-status_value  \\\n",
       "0                                       0   \n",
       "1                                       0   \n",
       "2                                       0   \n",
       "3                                       0   \n",
       "4                                       0   \n",
       "\n",
       "   upfx7_memory-stats.used-number_value  \\\n",
       "0                               -148496   \n",
       "1                                   -24   \n",
       "2                                  4092   \n",
       "3                                   244   \n",
       "4                                   160   \n",
       "\n",
       "   upfx7_memory-stats.used-percent_value  \\\n",
       "0                                     -8   \n",
       "1                                      0   \n",
       "2                                      1   \n",
       "3                                      0   \n",
       "4                                      0   \n",
       "\n",
       "   upfx7_per-core-stats.per-core-stat.idle_value  \\\n",
       "0                                         -0.095   \n",
       "1                                         -0.095   \n",
       "2                                         -0.100   \n",
       "3                                          0.350   \n",
       "4                                         -0.130   \n",
       "\n",
       "   upfx7_per-core-stats.per-core-stat.io-wait_value  \\\n",
       "0                                              0.18   \n",
       "1                                              0.02   \n",
       "2                                              0.00   \n",
       "3                                             -0.02   \n",
       "4                                              0.00   \n",
       "\n",
       "   upfx7_per-core-stats.per-core-stat.nice_value  \\\n",
       "0                                              0   \n",
       "1                                              0   \n",
       "2                                              0   \n",
       "3                                              0   \n",
       "4                                              0   \n",
       "\n",
       "   upfx7_per-core-stats.per-core-stat.sirq_value  \\\n",
       "0                                            0.0   \n",
       "1                                            0.0   \n",
       "2                                            0.0   \n",
       "3                                            0.0   \n",
       "4                                            0.0   \n",
       "\n",
       "   upfx7_per-core-stats.per-core-stat.system_value  \\\n",
       "0                                            0.045   \n",
       "1                                            0.010   \n",
       "2                                            0.100   \n",
       "3                                           -0.030   \n",
       "4                                            0.140   \n",
       "\n",
       "   upfx7_per-core-stats.per-core-stat.user_value  \n",
       "0                                  -4.500000e-02  \n",
       "1                                   8.000000e-02  \n",
       "2                                   4.160000e-17  \n",
       "3                                  -3.100000e-01  \n",
       "4                                  -5.000000e-03  \n",
       "\n",
       "[5 rows x 4121 columns]"
      ]
     },
     "execution_count": 36,
     "metadata": {},
     "output_type": "execute_result"
    }
   ],
   "source": [
    "dfc.head()"
   ]
  },
  {
   "cell_type": "code",
   "execution_count": 37,
   "id": "c6f45069",
   "metadata": {},
   "outputs": [
    {
     "data": {
      "text/html": [
       "<div>\n",
       "<style scoped>\n",
       "    .dataframe tbody tr th:only-of-type {\n",
       "        vertical-align: middle;\n",
       "    }\n",
       "\n",
       "    .dataframe tbody tr th {\n",
       "        vertical-align: top;\n",
       "    }\n",
       "\n",
       "    .dataframe thead th {\n",
       "        text-align: right;\n",
       "    }\n",
       "</style>\n",
       "<table border=\"1\" class=\"dataframe\">\n",
       "  <thead>\n",
       "    <tr style=\"text-align: right;\">\n",
       "      <th></th>\n",
       "      <th>amfx1_ens3_oper-status</th>\n",
       "      <th>amfx1_ens3_phys-address</th>\n",
       "      <th>amfx1_ens3_speed</th>\n",
       "      <th>amfx1_ens3_statistics.in-octets</th>\n",
       "      <th>amfx1_ens3_statistics.in-unicast-pkts</th>\n",
       "      <th>amfx1_ens3_statistics.out-octets</th>\n",
       "      <th>amfx1_ens3_statistics.out-unicast-pkts</th>\n",
       "      <th>amfx1_ens3_oper-status_value</th>\n",
       "      <th>amfx1_ens3_phys-address_value</th>\n",
       "      <th>amfx1_ens3_speed_value</th>\n",
       "      <th>...</th>\n",
       "      <th>upfx7_memory-stats.free-percent_value</th>\n",
       "      <th>upfx7_memory-stats.memory-status_value</th>\n",
       "      <th>upfx7_memory-stats.used-number_value</th>\n",
       "      <th>upfx7_memory-stats.used-percent_value</th>\n",
       "      <th>upfx7_per-core-stats.per-core-stat.idle_value</th>\n",
       "      <th>upfx7_per-core-stats.per-core-stat.io-wait_value</th>\n",
       "      <th>upfx7_per-core-stats.per-core-stat.nice_value</th>\n",
       "      <th>upfx7_per-core-stats.per-core-stat.sirq_value</th>\n",
       "      <th>upfx7_per-core-stats.per-core-stat.system_value</th>\n",
       "      <th>upfx7_per-core-stats.per-core-stat.user_value</th>\n",
       "    </tr>\n",
       "  </thead>\n",
       "  <tbody>\n",
       "    <tr>\n",
       "      <th>count</th>\n",
       "      <td>460.0</td>\n",
       "      <td>460.0</td>\n",
       "      <td>460.0</td>\n",
       "      <td>460.0</td>\n",
       "      <td>460.0</td>\n",
       "      <td>460.0</td>\n",
       "      <td>460.0</td>\n",
       "      <td>460.0</td>\n",
       "      <td>460.0</td>\n",
       "      <td>460.0</td>\n",
       "      <td>...</td>\n",
       "      <td>460.000000</td>\n",
       "      <td>460.0</td>\n",
       "      <td>460.000000</td>\n",
       "      <td>460.000000</td>\n",
       "      <td>460.000000</td>\n",
       "      <td>460.000000</td>\n",
       "      <td>460.0</td>\n",
       "      <td>460.000000</td>\n",
       "      <td>460.000000</td>\n",
       "      <td>460.000000</td>\n",
       "    </tr>\n",
       "    <tr>\n",
       "      <th>mean</th>\n",
       "      <td>0.0</td>\n",
       "      <td>0.0</td>\n",
       "      <td>0.0</td>\n",
       "      <td>1.0</td>\n",
       "      <td>1.0</td>\n",
       "      <td>1.0</td>\n",
       "      <td>1.0</td>\n",
       "      <td>0.0</td>\n",
       "      <td>0.0</td>\n",
       "      <td>0.0</td>\n",
       "      <td>...</td>\n",
       "      <td>-0.160870</td>\n",
       "      <td>0.0</td>\n",
       "      <td>3692.669565</td>\n",
       "      <td>0.160870</td>\n",
       "      <td>0.030533</td>\n",
       "      <td>-0.030837</td>\n",
       "      <td>0.0</td>\n",
       "      <td>0.001826</td>\n",
       "      <td>0.003174</td>\n",
       "      <td>0.004435</td>\n",
       "    </tr>\n",
       "    <tr>\n",
       "      <th>std</th>\n",
       "      <td>0.0</td>\n",
       "      <td>0.0</td>\n",
       "      <td>0.0</td>\n",
       "      <td>0.0</td>\n",
       "      <td>0.0</td>\n",
       "      <td>0.0</td>\n",
       "      <td>0.0</td>\n",
       "      <td>0.0</td>\n",
       "      <td>0.0</td>\n",
       "      <td>0.0</td>\n",
       "      <td>...</td>\n",
       "      <td>7.024094</td>\n",
       "      <td>0.0</td>\n",
       "      <td>146765.176059</td>\n",
       "      <td>7.024094</td>\n",
       "      <td>0.913984</td>\n",
       "      <td>0.899999</td>\n",
       "      <td>0.0</td>\n",
       "      <td>0.036772</td>\n",
       "      <td>0.117921</td>\n",
       "      <td>0.190960</td>\n",
       "    </tr>\n",
       "    <tr>\n",
       "      <th>min</th>\n",
       "      <td>0.0</td>\n",
       "      <td>0.0</td>\n",
       "      <td>0.0</td>\n",
       "      <td>1.0</td>\n",
       "      <td>1.0</td>\n",
       "      <td>1.0</td>\n",
       "      <td>1.0</td>\n",
       "      <td>0.0</td>\n",
       "      <td>0.0</td>\n",
       "      <td>0.0</td>\n",
       "      <td>...</td>\n",
       "      <td>-13.000000</td>\n",
       "      <td>0.0</td>\n",
       "      <td>-250672.000000</td>\n",
       "      <td>-13.000000</td>\n",
       "      <td>-1.415000</td>\n",
       "      <td>-18.475000</td>\n",
       "      <td>0.0</td>\n",
       "      <td>-0.110000</td>\n",
       "      <td>-0.420000</td>\n",
       "      <td>-0.600000</td>\n",
       "    </tr>\n",
       "    <tr>\n",
       "      <th>25%</th>\n",
       "      <td>0.0</td>\n",
       "      <td>0.0</td>\n",
       "      <td>0.0</td>\n",
       "      <td>1.0</td>\n",
       "      <td>1.0</td>\n",
       "      <td>1.0</td>\n",
       "      <td>1.0</td>\n",
       "      <td>0.0</td>\n",
       "      <td>0.0</td>\n",
       "      <td>0.0</td>\n",
       "      <td>...</td>\n",
       "      <td>-1.000000</td>\n",
       "      <td>0.0</td>\n",
       "      <td>-12478.000000</td>\n",
       "      <td>-1.000000</td>\n",
       "      <td>-0.140000</td>\n",
       "      <td>-0.070000</td>\n",
       "      <td>0.0</td>\n",
       "      <td>0.000000</td>\n",
       "      <td>-0.065000</td>\n",
       "      <td>-0.106250</td>\n",
       "    </tr>\n",
       "    <tr>\n",
       "      <th>50%</th>\n",
       "      <td>0.0</td>\n",
       "      <td>0.0</td>\n",
       "      <td>0.0</td>\n",
       "      <td>1.0</td>\n",
       "      <td>1.0</td>\n",
       "      <td>1.0</td>\n",
       "      <td>1.0</td>\n",
       "      <td>0.0</td>\n",
       "      <td>0.0</td>\n",
       "      <td>0.0</td>\n",
       "      <td>...</td>\n",
       "      <td>0.000000</td>\n",
       "      <td>0.0</td>\n",
       "      <td>158.000000</td>\n",
       "      <td>0.000000</td>\n",
       "      <td>-0.005000</td>\n",
       "      <td>0.000000</td>\n",
       "      <td>0.0</td>\n",
       "      <td>0.000000</td>\n",
       "      <td>0.000000</td>\n",
       "      <td>0.000000</td>\n",
       "    </tr>\n",
       "    <tr>\n",
       "      <th>75%</th>\n",
       "      <td>0.0</td>\n",
       "      <td>0.0</td>\n",
       "      <td>0.0</td>\n",
       "      <td>1.0</td>\n",
       "      <td>1.0</td>\n",
       "      <td>1.0</td>\n",
       "      <td>1.0</td>\n",
       "      <td>0.0</td>\n",
       "      <td>0.0</td>\n",
       "      <td>0.0</td>\n",
       "      <td>...</td>\n",
       "      <td>1.000000</td>\n",
       "      <td>0.0</td>\n",
       "      <td>21523.000000</td>\n",
       "      <td>1.000000</td>\n",
       "      <td>0.145000</td>\n",
       "      <td>0.060000</td>\n",
       "      <td>0.0</td>\n",
       "      <td>0.000000</td>\n",
       "      <td>0.080000</td>\n",
       "      <td>0.131250</td>\n",
       "    </tr>\n",
       "    <tr>\n",
       "      <th>max</th>\n",
       "      <td>0.0</td>\n",
       "      <td>0.0</td>\n",
       "      <td>0.0</td>\n",
       "      <td>1.0</td>\n",
       "      <td>1.0</td>\n",
       "      <td>1.0</td>\n",
       "      <td>1.0</td>\n",
       "      <td>0.0</td>\n",
       "      <td>0.0</td>\n",
       "      <td>0.0</td>\n",
       "      <td>...</td>\n",
       "      <td>13.000000</td>\n",
       "      <td>0.0</td>\n",
       "      <td>254108.000000</td>\n",
       "      <td>13.000000</td>\n",
       "      <td>18.770000</td>\n",
       "      <td>2.140000</td>\n",
       "      <td>0.0</td>\n",
       "      <td>0.200000</td>\n",
       "      <td>0.400000</td>\n",
       "      <td>0.710000</td>\n",
       "    </tr>\n",
       "  </tbody>\n",
       "</table>\n",
       "<p>8 rows × 4118 columns</p>\n",
       "</div>"
      ],
      "text/plain": [
       "       amfx1_ens3_oper-status  amfx1_ens3_phys-address  amfx1_ens3_speed  \\\n",
       "count                   460.0                    460.0             460.0   \n",
       "mean                      0.0                      0.0               0.0   \n",
       "std                       0.0                      0.0               0.0   \n",
       "min                       0.0                      0.0               0.0   \n",
       "25%                       0.0                      0.0               0.0   \n",
       "50%                       0.0                      0.0               0.0   \n",
       "75%                       0.0                      0.0               0.0   \n",
       "max                       0.0                      0.0               0.0   \n",
       "\n",
       "       amfx1_ens3_statistics.in-octets  amfx1_ens3_statistics.in-unicast-pkts  \\\n",
       "count                            460.0                                  460.0   \n",
       "mean                               1.0                                    1.0   \n",
       "std                                0.0                                    0.0   \n",
       "min                                1.0                                    1.0   \n",
       "25%                                1.0                                    1.0   \n",
       "50%                                1.0                                    1.0   \n",
       "75%                                1.0                                    1.0   \n",
       "max                                1.0                                    1.0   \n",
       "\n",
       "       amfx1_ens3_statistics.out-octets  \\\n",
       "count                             460.0   \n",
       "mean                                1.0   \n",
       "std                                 0.0   \n",
       "min                                 1.0   \n",
       "25%                                 1.0   \n",
       "50%                                 1.0   \n",
       "75%                                 1.0   \n",
       "max                                 1.0   \n",
       "\n",
       "       amfx1_ens3_statistics.out-unicast-pkts  amfx1_ens3_oper-status_value  \\\n",
       "count                                   460.0                         460.0   \n",
       "mean                                      1.0                           0.0   \n",
       "std                                       0.0                           0.0   \n",
       "min                                       1.0                           0.0   \n",
       "25%                                       1.0                           0.0   \n",
       "50%                                       1.0                           0.0   \n",
       "75%                                       1.0                           0.0   \n",
       "max                                       1.0                           0.0   \n",
       "\n",
       "       amfx1_ens3_phys-address_value  amfx1_ens3_speed_value  ...  \\\n",
       "count                          460.0                   460.0  ...   \n",
       "mean                             0.0                     0.0  ...   \n",
       "std                              0.0                     0.0  ...   \n",
       "min                              0.0                     0.0  ...   \n",
       "25%                              0.0                     0.0  ...   \n",
       "50%                              0.0                     0.0  ...   \n",
       "75%                              0.0                     0.0  ...   \n",
       "max                              0.0                     0.0  ...   \n",
       "\n",
       "       upfx7_memory-stats.free-percent_value  \\\n",
       "count                             460.000000   \n",
       "mean                               -0.160870   \n",
       "std                                 7.024094   \n",
       "min                               -13.000000   \n",
       "25%                                -1.000000   \n",
       "50%                                 0.000000   \n",
       "75%                                 1.000000   \n",
       "max                                13.000000   \n",
       "\n",
       "       upfx7_memory-stats.memory-status_value  \\\n",
       "count                                   460.0   \n",
       "mean                                      0.0   \n",
       "std                                       0.0   \n",
       "min                                       0.0   \n",
       "25%                                       0.0   \n",
       "50%                                       0.0   \n",
       "75%                                       0.0   \n",
       "max                                       0.0   \n",
       "\n",
       "       upfx7_memory-stats.used-number_value  \\\n",
       "count                            460.000000   \n",
       "mean                            3692.669565   \n",
       "std                           146765.176059   \n",
       "min                          -250672.000000   \n",
       "25%                           -12478.000000   \n",
       "50%                              158.000000   \n",
       "75%                            21523.000000   \n",
       "max                           254108.000000   \n",
       "\n",
       "       upfx7_memory-stats.used-percent_value  \\\n",
       "count                             460.000000   \n",
       "mean                                0.160870   \n",
       "std                                 7.024094   \n",
       "min                               -13.000000   \n",
       "25%                                -1.000000   \n",
       "50%                                 0.000000   \n",
       "75%                                 1.000000   \n",
       "max                                13.000000   \n",
       "\n",
       "       upfx7_per-core-stats.per-core-stat.idle_value  \\\n",
       "count                                     460.000000   \n",
       "mean                                        0.030533   \n",
       "std                                         0.913984   \n",
       "min                                        -1.415000   \n",
       "25%                                        -0.140000   \n",
       "50%                                        -0.005000   \n",
       "75%                                         0.145000   \n",
       "max                                        18.770000   \n",
       "\n",
       "       upfx7_per-core-stats.per-core-stat.io-wait_value  \\\n",
       "count                                        460.000000   \n",
       "mean                                          -0.030837   \n",
       "std                                            0.899999   \n",
       "min                                          -18.475000   \n",
       "25%                                           -0.070000   \n",
       "50%                                            0.000000   \n",
       "75%                                            0.060000   \n",
       "max                                            2.140000   \n",
       "\n",
       "       upfx7_per-core-stats.per-core-stat.nice_value  \\\n",
       "count                                          460.0   \n",
       "mean                                             0.0   \n",
       "std                                              0.0   \n",
       "min                                              0.0   \n",
       "25%                                              0.0   \n",
       "50%                                              0.0   \n",
       "75%                                              0.0   \n",
       "max                                              0.0   \n",
       "\n",
       "       upfx7_per-core-stats.per-core-stat.sirq_value  \\\n",
       "count                                     460.000000   \n",
       "mean                                        0.001826   \n",
       "std                                         0.036772   \n",
       "min                                        -0.110000   \n",
       "25%                                         0.000000   \n",
       "50%                                         0.000000   \n",
       "75%                                         0.000000   \n",
       "max                                         0.200000   \n",
       "\n",
       "       upfx7_per-core-stats.per-core-stat.system_value  \\\n",
       "count                                       460.000000   \n",
       "mean                                          0.003174   \n",
       "std                                           0.117921   \n",
       "min                                          -0.420000   \n",
       "25%                                          -0.065000   \n",
       "50%                                           0.000000   \n",
       "75%                                           0.080000   \n",
       "max                                           0.400000   \n",
       "\n",
       "       upfx7_per-core-stats.per-core-stat.user_value  \n",
       "count                                     460.000000  \n",
       "mean                                        0.004435  \n",
       "std                                         0.190960  \n",
       "min                                        -0.600000  \n",
       "25%                                        -0.106250  \n",
       "50%                                         0.000000  \n",
       "75%                                         0.131250  \n",
       "max                                         0.710000  \n",
       "\n",
       "[8 rows x 4118 columns]"
      ]
     },
     "execution_count": 37,
     "metadata": {},
     "output_type": "execute_result"
    }
   ],
   "source": [
    "dfc.describe()"
   ]
  },
  {
   "cell_type": "code",
   "execution_count": 38,
   "id": "9e557e17",
   "metadata": {},
   "outputs": [
    {
     "data": {
      "text/plain": [
       "time                                                 object\n",
       "source_name                                          object\n",
       "y_true(fc)                                           object\n",
       "amfx1_ens3_oper-status                                int64\n",
       "amfx1_ens3_phys-address                               int64\n",
       "                                                     ...   \n",
       "upfx7_per-core-stats.per-core-stat.io-wait_value    float64\n",
       "upfx7_per-core-stats.per-core-stat.nice_value         int64\n",
       "upfx7_per-core-stats.per-core-stat.sirq_value       float64\n",
       "upfx7_per-core-stats.per-core-stat.system_value     float64\n",
       "upfx7_per-core-stats.per-core-stat.user_value       float64\n",
       "Length: 4121, dtype: object"
      ]
     },
     "execution_count": 38,
     "metadata": {},
     "output_type": "execute_result"
    }
   ],
   "source": [
    "dfc.dtypes"
   ]
  },
  {
   "cell_type": "code",
   "execution_count": 39,
   "id": "908e9477",
   "metadata": {},
   "outputs": [],
   "source": [
    "del dfc['time']\n",
    "del dfc['source_name']"
   ]
  },
  {
   "cell_type": "code",
   "execution_count": 40,
   "id": "fc7ec73a",
   "metadata": {},
   "outputs": [
    {
     "data": {
      "text/html": [
       "<div>\n",
       "<style scoped>\n",
       "    .dataframe tbody tr th:only-of-type {\n",
       "        vertical-align: middle;\n",
       "    }\n",
       "\n",
       "    .dataframe tbody tr th {\n",
       "        vertical-align: top;\n",
       "    }\n",
       "\n",
       "    .dataframe thead th {\n",
       "        text-align: right;\n",
       "    }\n",
       "</style>\n",
       "<table border=\"1\" class=\"dataframe\">\n",
       "  <thead>\n",
       "    <tr style=\"text-align: right;\">\n",
       "      <th></th>\n",
       "      <th>y_true(fc)</th>\n",
       "      <th>amfx1_ens3_oper-status</th>\n",
       "      <th>amfx1_ens3_phys-address</th>\n",
       "      <th>amfx1_ens3_speed</th>\n",
       "      <th>amfx1_ens3_statistics.in-octets</th>\n",
       "      <th>amfx1_ens3_statistics.in-unicast-pkts</th>\n",
       "      <th>amfx1_ens3_statistics.out-octets</th>\n",
       "      <th>amfx1_ens3_statistics.out-unicast-pkts</th>\n",
       "      <th>amfx1_ens3_oper-status_value</th>\n",
       "      <th>amfx1_ens3_phys-address_value</th>\n",
       "      <th>...</th>\n",
       "      <th>upfx7_memory-stats.free-percent_value</th>\n",
       "      <th>upfx7_memory-stats.memory-status_value</th>\n",
       "      <th>upfx7_memory-stats.used-number_value</th>\n",
       "      <th>upfx7_memory-stats.used-percent_value</th>\n",
       "      <th>upfx7_per-core-stats.per-core-stat.idle_value</th>\n",
       "      <th>upfx7_per-core-stats.per-core-stat.io-wait_value</th>\n",
       "      <th>upfx7_per-core-stats.per-core-stat.nice_value</th>\n",
       "      <th>upfx7_per-core-stats.per-core-stat.sirq_value</th>\n",
       "      <th>upfx7_per-core-stats.per-core-stat.system_value</th>\n",
       "      <th>upfx7_per-core-stats.per-core-stat.user_value</th>\n",
       "    </tr>\n",
       "  </thead>\n",
       "  <tbody>\n",
       "    <tr>\n",
       "      <th>0</th>\n",
       "      <td>normal</td>\n",
       "      <td>0</td>\n",
       "      <td>0</td>\n",
       "      <td>0</td>\n",
       "      <td>1</td>\n",
       "      <td>1</td>\n",
       "      <td>1</td>\n",
       "      <td>1</td>\n",
       "      <td>0</td>\n",
       "      <td>0</td>\n",
       "      <td>...</td>\n",
       "      <td>8</td>\n",
       "      <td>0</td>\n",
       "      <td>-148496</td>\n",
       "      <td>-8</td>\n",
       "      <td>-0.095</td>\n",
       "      <td>0.18</td>\n",
       "      <td>0</td>\n",
       "      <td>0.0</td>\n",
       "      <td>0.045</td>\n",
       "      <td>-0.045</td>\n",
       "    </tr>\n",
       "  </tbody>\n",
       "</table>\n",
       "<p>1 rows × 4119 columns</p>\n",
       "</div>"
      ],
      "text/plain": [
       "  y_true(fc)  amfx1_ens3_oper-status  amfx1_ens3_phys-address  \\\n",
       "0     normal                       0                        0   \n",
       "\n",
       "   amfx1_ens3_speed  amfx1_ens3_statistics.in-octets  \\\n",
       "0                 0                                1   \n",
       "\n",
       "   amfx1_ens3_statistics.in-unicast-pkts  amfx1_ens3_statistics.out-octets  \\\n",
       "0                                      1                                 1   \n",
       "\n",
       "   amfx1_ens3_statistics.out-unicast-pkts  amfx1_ens3_oper-status_value  \\\n",
       "0                                       1                             0   \n",
       "\n",
       "   amfx1_ens3_phys-address_value  ...  upfx7_memory-stats.free-percent_value  \\\n",
       "0                              0  ...                                      8   \n",
       "\n",
       "   upfx7_memory-stats.memory-status_value  \\\n",
       "0                                       0   \n",
       "\n",
       "   upfx7_memory-stats.used-number_value  \\\n",
       "0                               -148496   \n",
       "\n",
       "   upfx7_memory-stats.used-percent_value  \\\n",
       "0                                     -8   \n",
       "\n",
       "   upfx7_per-core-stats.per-core-stat.idle_value  \\\n",
       "0                                         -0.095   \n",
       "\n",
       "   upfx7_per-core-stats.per-core-stat.io-wait_value  \\\n",
       "0                                              0.18   \n",
       "\n",
       "   upfx7_per-core-stats.per-core-stat.nice_value  \\\n",
       "0                                              0   \n",
       "\n",
       "   upfx7_per-core-stats.per-core-stat.sirq_value  \\\n",
       "0                                            0.0   \n",
       "\n",
       "   upfx7_per-core-stats.per-core-stat.system_value  \\\n",
       "0                                            0.045   \n",
       "\n",
       "   upfx7_per-core-stats.per-core-stat.user_value  \n",
       "0                                         -0.045  \n",
       "\n",
       "[1 rows x 4119 columns]"
      ]
     },
     "execution_count": 40,
     "metadata": {},
     "output_type": "execute_result"
    }
   ],
   "source": [
    "dfc.head(1)"
   ]
  },
  {
   "cell_type": "code",
   "execution_count": 41,
   "id": "2703286a",
   "metadata": {},
   "outputs": [
    {
     "data": {
      "text/plain": [
       "y_true(fc)                                           object\n",
       "amfx1_ens3_oper-status                                int64\n",
       "amfx1_ens3_phys-address                               int64\n",
       "amfx1_ens3_speed                                      int64\n",
       "amfx1_ens3_statistics.in-octets                       int64\n",
       "                                                     ...   \n",
       "upfx7_per-core-stats.per-core-stat.io-wait_value    float64\n",
       "upfx7_per-core-stats.per-core-stat.nice_value         int64\n",
       "upfx7_per-core-stats.per-core-stat.sirq_value       float64\n",
       "upfx7_per-core-stats.per-core-stat.system_value     float64\n",
       "upfx7_per-core-stats.per-core-stat.user_value       float64\n",
       "Length: 4119, dtype: object"
      ]
     },
     "execution_count": 41,
     "metadata": {},
     "output_type": "execute_result"
    }
   ],
   "source": [
    "dfc.dtypes"
   ]
  },
  {
   "cell_type": "code",
   "execution_count": 42,
   "id": "aef96d4d",
   "metadata": {},
   "outputs": [],
   "source": [
    "from sklearn.preprocessing import LabelEncoder\n",
    "le = LabelEncoder()\n",
    "label = le.fit_transform(dfc['y_true(fc)'])\n",
    "dfc['y_true(fc)'] = label"
   ]
  },
  {
   "cell_type": "code",
   "execution_count": 53,
   "id": "2c4993ef",
   "metadata": {},
   "outputs": [],
   "source": [
    " import sklearn\n",
    "from sklearn.metrics import confusion_matrix, roc_auc_score, classification_report, roc_curve"
   ]
  },
  {
   "cell_type": "code",
   "execution_count": 56,
   "id": "5e85707d",
   "metadata": {},
   "outputs": [],
   "source": [
    "X = dfc.drop('y_true(fc)', axis=1)\n",
    "y = dfc['y_true(fc)']"
   ]
  },
  {
   "cell_type": "code",
   "execution_count": 57,
   "id": "d0867a9b",
   "metadata": {},
   "outputs": [],
   "source": [
    "from xgboost import XGBClassifier\n",
    "\n",
    "# Import accuracy_score\n",
    "from sklearn.metrics import accuracy_score\n",
    "\n",
    "# Import train_test_split\n",
    "from sklearn.model_selection import train_test_split\n",
    "\n",
    "# Split data into train and test sets\n",
    "X_train, X_test, y_train, y_test = train_test_split(X, y, random_state=2)\n"
   ]
  },
  {
   "cell_type": "code",
   "execution_count": 58,
   "id": "d5a543a9",
   "metadata": {},
   "outputs": [
    {
     "name": "stdout",
     "output_type": "stream",
     "text": [
      "Score: 0.8695652173913043\n"
     ]
    }
   ],
   "source": [
    "model = XGBClassifier(booster='gbtree', objective='binary:logistic', random_state=2)\n",
    "\n",
    "# Fit xg_reg to training set\n",
    "model.fit(X_train, y_train)\n",
    "\n",
    "# Predict labels of test set, y_pred\n",
    "y_pred = model.predict(X_test)\n",
    "\n",
    "score = accuracy_score(y_pred, y_test)\n",
    "\n",
    "print('Score: ' + str(score))"
   ]
  },
  {
   "cell_type": "code",
   "execution_count": 59,
   "id": "bb61d8c6",
   "metadata": {},
   "outputs": [
    {
     "name": "stdout",
     "output_type": "stream",
     "text": [
      "              precision    recall  f1-score   support\n",
      "\n",
      "           0       0.00      0.00      0.00         4\n",
      "           1       1.00      1.00      1.00         3\n",
      "           2       1.00      0.33      0.50         3\n",
      "           3       1.00      1.00      1.00         2\n",
      "           4       1.00      1.00      1.00         3\n",
      "           5       0.00      0.00      0.00         3\n",
      "           6       1.00      1.00      1.00         2\n",
      "           7       1.00      1.00      1.00         1\n",
      "           8       1.00      1.00      1.00         3\n",
      "           9       1.00      1.00      1.00         3\n",
      "          10       0.87      0.97      0.92        75\n",
      "          11       0.00      0.00      0.00         3\n",
      "          12       1.00      0.80      0.89         5\n",
      "          14       1.00      1.00      1.00         2\n",
      "          15       0.75      1.00      0.86         3\n",
      "\n",
      "    accuracy                           0.87       115\n",
      "   macro avg       0.77      0.74      0.74       115\n",
      "weighted avg       0.82      0.87      0.84       115\n",
      "\n"
     ]
    }
   ],
   "source": [
    "from sklearn.metrics import classification_report\n",
    "print(classification_report(y_test, y_pred))"
   ]
  },
  {
   "cell_type": "code",
   "execution_count": 62,
   "id": "88507bfa",
   "metadata": {},
   "outputs": [],
   "source": [
    "from sklearn.metrics import recall_score, "
   ]
  },
  {
   "cell_type": "code",
   "execution_count": 65,
   "id": "f7a3b8c2",
   "metadata": {},
   "outputs": [],
   "source": [
    "def xgb_clf(model, nrows):\n",
    "    # Split data into train and test sets\n",
    "    X_train, X_test, y_train, y_test = train_test_split(X, y, random_state=2)\n",
    "\n",
    "    # Fit xg_reg to training set\n",
    "    model.fit(X_train, y_train)\n",
    "\n",
    "    # Predict labels of test set, y_pred\n",
    "    y_pred = model.predict(X_test)\n",
    "\n",
    "    score = recall_score(y_test, y_pred, pos_label='positive', average='micro')\n",
    "    \n",
    "    print(confusion_matrix(y_test, y_pred))\n",
    "    \n",
    "    print(classification_report(y_test, y_pred))\n",
    "        \n",
    "    return score"
   ]
  },
  {
   "cell_type": "code",
   "execution_count": 66,
   "id": "67506d58",
   "metadata": {},
   "outputs": [
    {
     "name": "stdout",
     "output_type": "stream",
     "text": [
      "[[ 0  0  0  0  0  1  0  0  0  0  3  0  0  0  0]\n",
      " [ 0  3  0  0  0  0  0  0  0  0  0  0  0  0  0]\n",
      " [ 0  0  1  0  0  0  0  0  0  0  2  0  0  0  0]\n",
      " [ 0  0  0  2  0  0  0  0  0  0  0  0  0  0  0]\n",
      " [ 0  0  0  0  3  0  0  0  0  0  0  0  0  0  0]\n",
      " [ 0  0  0  0  0  0  0  0  0  0  3  0  0  0  0]\n",
      " [ 0  0  0  0  0  0  2  0  0  0  0  0  0  0  0]\n",
      " [ 0  0  0  0  0  0  0  1  0  0  0  0  0  0  0]\n",
      " [ 0  0  0  0  0  0  0  0  3  0  0  0  0  0  0]\n",
      " [ 0  0  0  0  0  0  0  0  0  3  0  0  0  0  0]\n",
      " [ 0  0  0  0  0  2  0  0  0  0 73  0  0  0  0]\n",
      " [ 0  0  0  0  0  0  0  0  0  0  3  0  0  0  0]\n",
      " [ 0  0  0  0  0  0  0  0  0  0  0  0  4  0  1]\n",
      " [ 0  0  0  0  0  0  0  0  0  0  0  0  0  2  0]\n",
      " [ 0  0  0  0  0  0  0  0  0  0  0  0  0  0  3]]\n",
      "              precision    recall  f1-score   support\n",
      "\n",
      "           0       0.00      0.00      0.00         4\n",
      "           1       1.00      1.00      1.00         3\n",
      "           2       1.00      0.33      0.50         3\n",
      "           3       1.00      1.00      1.00         2\n",
      "           4       1.00      1.00      1.00         3\n",
      "           5       0.00      0.00      0.00         3\n",
      "           6       1.00      1.00      1.00         2\n",
      "           7       1.00      1.00      1.00         1\n",
      "           8       1.00      1.00      1.00         3\n",
      "           9       1.00      1.00      1.00         3\n",
      "          10       0.87      0.97      0.92        75\n",
      "          11       0.00      0.00      0.00         3\n",
      "          12       1.00      0.80      0.89         5\n",
      "          14       1.00      1.00      1.00         2\n",
      "          15       0.75      1.00      0.86         3\n",
      "\n",
      "    accuracy                           0.87       115\n",
      "   macro avg       0.77      0.74      0.74       115\n",
      "weighted avg       0.82      0.87      0.84       115\n",
      "\n"
     ]
    },
    {
     "data": {
      "text/plain": [
       "0.8695652173913043"
      ]
     },
     "execution_count": 66,
     "metadata": {},
     "output_type": "execute_result"
    }
   ],
   "source": [
    "xgb_clf(XGBClassifier(random_state=2), nrows=800)\n"
   ]
  },
  {
   "cell_type": "code",
   "execution_count": 69,
   "id": "0cc15343",
   "metadata": {},
   "outputs": [],
   "source": [
    "X_all = dfc.iloc[:,1:]\n",
    "y_all = dfc.iloc[:,0]"
   ]
  },
  {
   "cell_type": "code",
   "execution_count": 70,
   "id": "e7af6f72",
   "metadata": {},
   "outputs": [
    {
     "data": {
      "text/html": [
       "<div>\n",
       "<style scoped>\n",
       "    .dataframe tbody tr th:only-of-type {\n",
       "        vertical-align: middle;\n",
       "    }\n",
       "\n",
       "    .dataframe tbody tr th {\n",
       "        vertical-align: top;\n",
       "    }\n",
       "\n",
       "    .dataframe thead th {\n",
       "        text-align: right;\n",
       "    }\n",
       "</style>\n",
       "<table border=\"1\" class=\"dataframe\">\n",
       "  <thead>\n",
       "    <tr style=\"text-align: right;\">\n",
       "      <th></th>\n",
       "      <th>amfx1_ens3_oper-status</th>\n",
       "      <th>amfx1_ens3_phys-address</th>\n",
       "      <th>amfx1_ens3_speed</th>\n",
       "      <th>amfx1_ens3_statistics.in-octets</th>\n",
       "      <th>amfx1_ens3_statistics.in-unicast-pkts</th>\n",
       "      <th>amfx1_ens3_statistics.out-octets</th>\n",
       "      <th>amfx1_ens3_statistics.out-unicast-pkts</th>\n",
       "      <th>amfx1_ens3_oper-status_value</th>\n",
       "      <th>amfx1_ens3_phys-address_value</th>\n",
       "      <th>amfx1_ens3_speed_value</th>\n",
       "      <th>...</th>\n",
       "      <th>upfx7_memory-stats.free-percent_value</th>\n",
       "      <th>upfx7_memory-stats.memory-status_value</th>\n",
       "      <th>upfx7_memory-stats.used-number_value</th>\n",
       "      <th>upfx7_memory-stats.used-percent_value</th>\n",
       "      <th>upfx7_per-core-stats.per-core-stat.idle_value</th>\n",
       "      <th>upfx7_per-core-stats.per-core-stat.io-wait_value</th>\n",
       "      <th>upfx7_per-core-stats.per-core-stat.nice_value</th>\n",
       "      <th>upfx7_per-core-stats.per-core-stat.sirq_value</th>\n",
       "      <th>upfx7_per-core-stats.per-core-stat.system_value</th>\n",
       "      <th>upfx7_per-core-stats.per-core-stat.user_value</th>\n",
       "    </tr>\n",
       "  </thead>\n",
       "  <tbody>\n",
       "    <tr>\n",
       "      <th>0</th>\n",
       "      <td>0</td>\n",
       "      <td>0</td>\n",
       "      <td>0</td>\n",
       "      <td>1</td>\n",
       "      <td>1</td>\n",
       "      <td>1</td>\n",
       "      <td>1</td>\n",
       "      <td>0</td>\n",
       "      <td>0</td>\n",
       "      <td>0</td>\n",
       "      <td>...</td>\n",
       "      <td>8</td>\n",
       "      <td>0</td>\n",
       "      <td>-148496</td>\n",
       "      <td>-8</td>\n",
       "      <td>-0.095</td>\n",
       "      <td>0.180</td>\n",
       "      <td>0</td>\n",
       "      <td>0.0</td>\n",
       "      <td>0.045</td>\n",
       "      <td>-4.500000e-02</td>\n",
       "    </tr>\n",
       "    <tr>\n",
       "      <th>1</th>\n",
       "      <td>0</td>\n",
       "      <td>0</td>\n",
       "      <td>0</td>\n",
       "      <td>1</td>\n",
       "      <td>1</td>\n",
       "      <td>1</td>\n",
       "      <td>1</td>\n",
       "      <td>0</td>\n",
       "      <td>0</td>\n",
       "      <td>0</td>\n",
       "      <td>...</td>\n",
       "      <td>0</td>\n",
       "      <td>0</td>\n",
       "      <td>-24</td>\n",
       "      <td>0</td>\n",
       "      <td>-0.095</td>\n",
       "      <td>0.020</td>\n",
       "      <td>0</td>\n",
       "      <td>0.0</td>\n",
       "      <td>0.010</td>\n",
       "      <td>8.000000e-02</td>\n",
       "    </tr>\n",
       "    <tr>\n",
       "      <th>2</th>\n",
       "      <td>0</td>\n",
       "      <td>0</td>\n",
       "      <td>0</td>\n",
       "      <td>1</td>\n",
       "      <td>1</td>\n",
       "      <td>1</td>\n",
       "      <td>1</td>\n",
       "      <td>0</td>\n",
       "      <td>0</td>\n",
       "      <td>0</td>\n",
       "      <td>...</td>\n",
       "      <td>-1</td>\n",
       "      <td>0</td>\n",
       "      <td>4092</td>\n",
       "      <td>1</td>\n",
       "      <td>-0.100</td>\n",
       "      <td>0.000</td>\n",
       "      <td>0</td>\n",
       "      <td>0.0</td>\n",
       "      <td>0.100</td>\n",
       "      <td>4.160000e-17</td>\n",
       "    </tr>\n",
       "    <tr>\n",
       "      <th>3</th>\n",
       "      <td>0</td>\n",
       "      <td>0</td>\n",
       "      <td>0</td>\n",
       "      <td>1</td>\n",
       "      <td>1</td>\n",
       "      <td>1</td>\n",
       "      <td>1</td>\n",
       "      <td>0</td>\n",
       "      <td>0</td>\n",
       "      <td>0</td>\n",
       "      <td>...</td>\n",
       "      <td>0</td>\n",
       "      <td>0</td>\n",
       "      <td>244</td>\n",
       "      <td>0</td>\n",
       "      <td>0.350</td>\n",
       "      <td>-0.020</td>\n",
       "      <td>0</td>\n",
       "      <td>0.0</td>\n",
       "      <td>-0.030</td>\n",
       "      <td>-3.100000e-01</td>\n",
       "    </tr>\n",
       "    <tr>\n",
       "      <th>4</th>\n",
       "      <td>0</td>\n",
       "      <td>0</td>\n",
       "      <td>0</td>\n",
       "      <td>1</td>\n",
       "      <td>1</td>\n",
       "      <td>1</td>\n",
       "      <td>1</td>\n",
       "      <td>0</td>\n",
       "      <td>0</td>\n",
       "      <td>0</td>\n",
       "      <td>...</td>\n",
       "      <td>0</td>\n",
       "      <td>0</td>\n",
       "      <td>160</td>\n",
       "      <td>0</td>\n",
       "      <td>-0.130</td>\n",
       "      <td>0.000</td>\n",
       "      <td>0</td>\n",
       "      <td>0.0</td>\n",
       "      <td>0.140</td>\n",
       "      <td>-5.000000e-03</td>\n",
       "    </tr>\n",
       "    <tr>\n",
       "      <th>...</th>\n",
       "      <td>...</td>\n",
       "      <td>...</td>\n",
       "      <td>...</td>\n",
       "      <td>...</td>\n",
       "      <td>...</td>\n",
       "      <td>...</td>\n",
       "      <td>...</td>\n",
       "      <td>...</td>\n",
       "      <td>...</td>\n",
       "      <td>...</td>\n",
       "      <td>...</td>\n",
       "      <td>...</td>\n",
       "      <td>...</td>\n",
       "      <td>...</td>\n",
       "      <td>...</td>\n",
       "      <td>...</td>\n",
       "      <td>...</td>\n",
       "      <td>...</td>\n",
       "      <td>...</td>\n",
       "      <td>...</td>\n",
       "      <td>...</td>\n",
       "    </tr>\n",
       "    <tr>\n",
       "      <th>455</th>\n",
       "      <td>0</td>\n",
       "      <td>0</td>\n",
       "      <td>0</td>\n",
       "      <td>1</td>\n",
       "      <td>1</td>\n",
       "      <td>1</td>\n",
       "      <td>1</td>\n",
       "      <td>0</td>\n",
       "      <td>0</td>\n",
       "      <td>0</td>\n",
       "      <td>...</td>\n",
       "      <td>-11</td>\n",
       "      <td>0</td>\n",
       "      <td>234920</td>\n",
       "      <td>11</td>\n",
       "      <td>-0.070</td>\n",
       "      <td>0.000</td>\n",
       "      <td>0</td>\n",
       "      <td>0.0</td>\n",
       "      <td>-0.200</td>\n",
       "      <td>1.600000e-01</td>\n",
       "    </tr>\n",
       "    <tr>\n",
       "      <th>456</th>\n",
       "      <td>0</td>\n",
       "      <td>0</td>\n",
       "      <td>0</td>\n",
       "      <td>1</td>\n",
       "      <td>1</td>\n",
       "      <td>1</td>\n",
       "      <td>1</td>\n",
       "      <td>0</td>\n",
       "      <td>0</td>\n",
       "      <td>0</td>\n",
       "      <td>...</td>\n",
       "      <td>0</td>\n",
       "      <td>0</td>\n",
       "      <td>92</td>\n",
       "      <td>0</td>\n",
       "      <td>-0.140</td>\n",
       "      <td>0.270</td>\n",
       "      <td>0</td>\n",
       "      <td>0.0</td>\n",
       "      <td>-0.180</td>\n",
       "      <td>9.500000e-02</td>\n",
       "    </tr>\n",
       "    <tr>\n",
       "      <th>457</th>\n",
       "      <td>0</td>\n",
       "      <td>0</td>\n",
       "      <td>0</td>\n",
       "      <td>1</td>\n",
       "      <td>1</td>\n",
       "      <td>1</td>\n",
       "      <td>1</td>\n",
       "      <td>0</td>\n",
       "      <td>0</td>\n",
       "      <td>0</td>\n",
       "      <td>...</td>\n",
       "      <td>12</td>\n",
       "      <td>0</td>\n",
       "      <td>-242900</td>\n",
       "      <td>-12</td>\n",
       "      <td>-0.220</td>\n",
       "      <td>0.200</td>\n",
       "      <td>0</td>\n",
       "      <td>0.0</td>\n",
       "      <td>-0.190</td>\n",
       "      <td>2.100000e-01</td>\n",
       "    </tr>\n",
       "    <tr>\n",
       "      <th>458</th>\n",
       "      <td>0</td>\n",
       "      <td>0</td>\n",
       "      <td>0</td>\n",
       "      <td>1</td>\n",
       "      <td>1</td>\n",
       "      <td>1</td>\n",
       "      <td>1</td>\n",
       "      <td>0</td>\n",
       "      <td>0</td>\n",
       "      <td>0</td>\n",
       "      <td>...</td>\n",
       "      <td>12</td>\n",
       "      <td>0</td>\n",
       "      <td>-248856</td>\n",
       "      <td>-12</td>\n",
       "      <td>-0.140</td>\n",
       "      <td>0.015</td>\n",
       "      <td>0</td>\n",
       "      <td>0.0</td>\n",
       "      <td>0.075</td>\n",
       "      <td>5.000000e-02</td>\n",
       "    </tr>\n",
       "    <tr>\n",
       "      <th>459</th>\n",
       "      <td>0</td>\n",
       "      <td>0</td>\n",
       "      <td>0</td>\n",
       "      <td>1</td>\n",
       "      <td>1</td>\n",
       "      <td>1</td>\n",
       "      <td>1</td>\n",
       "      <td>0</td>\n",
       "      <td>0</td>\n",
       "      <td>0</td>\n",
       "      <td>...</td>\n",
       "      <td>0</td>\n",
       "      <td>0</td>\n",
       "      <td>-52</td>\n",
       "      <td>0</td>\n",
       "      <td>0.160</td>\n",
       "      <td>-0.100</td>\n",
       "      <td>0</td>\n",
       "      <td>0.0</td>\n",
       "      <td>0.100</td>\n",
       "      <td>-1.600000e-01</td>\n",
       "    </tr>\n",
       "  </tbody>\n",
       "</table>\n",
       "<p>460 rows × 4118 columns</p>\n",
       "</div>"
      ],
      "text/plain": [
       "     amfx1_ens3_oper-status  amfx1_ens3_phys-address  amfx1_ens3_speed  \\\n",
       "0                         0                        0                 0   \n",
       "1                         0                        0                 0   \n",
       "2                         0                        0                 0   \n",
       "3                         0                        0                 0   \n",
       "4                         0                        0                 0   \n",
       "..                      ...                      ...               ...   \n",
       "455                       0                        0                 0   \n",
       "456                       0                        0                 0   \n",
       "457                       0                        0                 0   \n",
       "458                       0                        0                 0   \n",
       "459                       0                        0                 0   \n",
       "\n",
       "     amfx1_ens3_statistics.in-octets  amfx1_ens3_statistics.in-unicast-pkts  \\\n",
       "0                                  1                                      1   \n",
       "1                                  1                                      1   \n",
       "2                                  1                                      1   \n",
       "3                                  1                                      1   \n",
       "4                                  1                                      1   \n",
       "..                               ...                                    ...   \n",
       "455                                1                                      1   \n",
       "456                                1                                      1   \n",
       "457                                1                                      1   \n",
       "458                                1                                      1   \n",
       "459                                1                                      1   \n",
       "\n",
       "     amfx1_ens3_statistics.out-octets  amfx1_ens3_statistics.out-unicast-pkts  \\\n",
       "0                                   1                                       1   \n",
       "1                                   1                                       1   \n",
       "2                                   1                                       1   \n",
       "3                                   1                                       1   \n",
       "4                                   1                                       1   \n",
       "..                                ...                                     ...   \n",
       "455                                 1                                       1   \n",
       "456                                 1                                       1   \n",
       "457                                 1                                       1   \n",
       "458                                 1                                       1   \n",
       "459                                 1                                       1   \n",
       "\n",
       "     amfx1_ens3_oper-status_value  amfx1_ens3_phys-address_value  \\\n",
       "0                               0                              0   \n",
       "1                               0                              0   \n",
       "2                               0                              0   \n",
       "3                               0                              0   \n",
       "4                               0                              0   \n",
       "..                            ...                            ...   \n",
       "455                             0                              0   \n",
       "456                             0                              0   \n",
       "457                             0                              0   \n",
       "458                             0                              0   \n",
       "459                             0                              0   \n",
       "\n",
       "     amfx1_ens3_speed_value  ...  upfx7_memory-stats.free-percent_value  \\\n",
       "0                         0  ...                                      8   \n",
       "1                         0  ...                                      0   \n",
       "2                         0  ...                                     -1   \n",
       "3                         0  ...                                      0   \n",
       "4                         0  ...                                      0   \n",
       "..                      ...  ...                                    ...   \n",
       "455                       0  ...                                    -11   \n",
       "456                       0  ...                                      0   \n",
       "457                       0  ...                                     12   \n",
       "458                       0  ...                                     12   \n",
       "459                       0  ...                                      0   \n",
       "\n",
       "     upfx7_memory-stats.memory-status_value  \\\n",
       "0                                         0   \n",
       "1                                         0   \n",
       "2                                         0   \n",
       "3                                         0   \n",
       "4                                         0   \n",
       "..                                      ...   \n",
       "455                                       0   \n",
       "456                                       0   \n",
       "457                                       0   \n",
       "458                                       0   \n",
       "459                                       0   \n",
       "\n",
       "     upfx7_memory-stats.used-number_value  \\\n",
       "0                                 -148496   \n",
       "1                                     -24   \n",
       "2                                    4092   \n",
       "3                                     244   \n",
       "4                                     160   \n",
       "..                                    ...   \n",
       "455                                234920   \n",
       "456                                    92   \n",
       "457                               -242900   \n",
       "458                               -248856   \n",
       "459                                   -52   \n",
       "\n",
       "     upfx7_memory-stats.used-percent_value  \\\n",
       "0                                       -8   \n",
       "1                                        0   \n",
       "2                                        1   \n",
       "3                                        0   \n",
       "4                                        0   \n",
       "..                                     ...   \n",
       "455                                     11   \n",
       "456                                      0   \n",
       "457                                    -12   \n",
       "458                                    -12   \n",
       "459                                      0   \n",
       "\n",
       "     upfx7_per-core-stats.per-core-stat.idle_value  \\\n",
       "0                                           -0.095   \n",
       "1                                           -0.095   \n",
       "2                                           -0.100   \n",
       "3                                            0.350   \n",
       "4                                           -0.130   \n",
       "..                                             ...   \n",
       "455                                         -0.070   \n",
       "456                                         -0.140   \n",
       "457                                         -0.220   \n",
       "458                                         -0.140   \n",
       "459                                          0.160   \n",
       "\n",
       "     upfx7_per-core-stats.per-core-stat.io-wait_value  \\\n",
       "0                                               0.180   \n",
       "1                                               0.020   \n",
       "2                                               0.000   \n",
       "3                                              -0.020   \n",
       "4                                               0.000   \n",
       "..                                                ...   \n",
       "455                                             0.000   \n",
       "456                                             0.270   \n",
       "457                                             0.200   \n",
       "458                                             0.015   \n",
       "459                                            -0.100   \n",
       "\n",
       "     upfx7_per-core-stats.per-core-stat.nice_value  \\\n",
       "0                                                0   \n",
       "1                                                0   \n",
       "2                                                0   \n",
       "3                                                0   \n",
       "4                                                0   \n",
       "..                                             ...   \n",
       "455                                              0   \n",
       "456                                              0   \n",
       "457                                              0   \n",
       "458                                              0   \n",
       "459                                              0   \n",
       "\n",
       "     upfx7_per-core-stats.per-core-stat.sirq_value  \\\n",
       "0                                              0.0   \n",
       "1                                              0.0   \n",
       "2                                              0.0   \n",
       "3                                              0.0   \n",
       "4                                              0.0   \n",
       "..                                             ...   \n",
       "455                                            0.0   \n",
       "456                                            0.0   \n",
       "457                                            0.0   \n",
       "458                                            0.0   \n",
       "459                                            0.0   \n",
       "\n",
       "     upfx7_per-core-stats.per-core-stat.system_value  \\\n",
       "0                                              0.045   \n",
       "1                                              0.010   \n",
       "2                                              0.100   \n",
       "3                                             -0.030   \n",
       "4                                              0.140   \n",
       "..                                               ...   \n",
       "455                                           -0.200   \n",
       "456                                           -0.180   \n",
       "457                                           -0.190   \n",
       "458                                            0.075   \n",
       "459                                            0.100   \n",
       "\n",
       "     upfx7_per-core-stats.per-core-stat.user_value  \n",
       "0                                    -4.500000e-02  \n",
       "1                                     8.000000e-02  \n",
       "2                                     4.160000e-17  \n",
       "3                                    -3.100000e-01  \n",
       "4                                    -5.000000e-03  \n",
       "..                                             ...  \n",
       "455                                   1.600000e-01  \n",
       "456                                   9.500000e-02  \n",
       "457                                   2.100000e-01  \n",
       "458                                   5.000000e-02  \n",
       "459                                  -1.600000e-01  \n",
       "\n",
       "[460 rows x 4118 columns]"
      ]
     },
     "execution_count": 70,
     "metadata": {},
     "output_type": "execute_result"
    }
   ],
   "source": [
    "X_all"
   ]
  },
  {
   "cell_type": "code",
   "execution_count": 71,
   "id": "824e502d",
   "metadata": {},
   "outputs": [
    {
     "data": {
      "text/plain": [
       "0      10\n",
       "1      15\n",
       "2       3\n",
       "3      10\n",
       "4      10\n",
       "       ..\n",
       "455    10\n",
       "456    10\n",
       "457    10\n",
       "458    15\n",
       "459     6\n",
       "Name: y_true(fc), Length: 460, dtype: int32"
      ]
     },
     "execution_count": 71,
     "metadata": {},
     "output_type": "execute_result"
    }
   ],
   "source": [
    "y_all"
   ]
  },
  {
   "cell_type": "code",
   "execution_count": 74,
   "id": "e24162e8",
   "metadata": {},
   "outputs": [],
   "source": [
    "X_short = X.iloc[:74, :]\n",
    "y_short = y.iloc[:74]"
   ]
  },
  {
   "cell_type": "code",
   "execution_count": 77,
   "id": "14724706",
   "metadata": {},
   "outputs": [],
   "source": [
    "def final_model(X, y, model):\n",
    "    model.fit(X, y)\n",
    "    y_pred = model.predict(X_all)\n",
    "    score = recall_score(y_all, y_pred, pos_label='positive', average='micro')\n",
    "    print(score)\n",
    "    print(confusion_matrix(y_all, y_pred))\n",
    "    print(classification_report(y_all, y_pred))"
   ]
  },
  {
   "cell_type": "code",
   "execution_count": 78,
   "id": "89b25b0e",
   "metadata": {},
   "outputs": [
    {
     "name": "stdout",
     "output_type": "stream",
     "text": [
      "[17:32:26] WARNING: C:\\buildkite-agent\\builds\\buildkite-windows-cpu-autoscaling-group-i-0fdc6d574b9c0d168-1\\xgboost\\xgboost-ci-windows\\src\\learner.cc:767: \n",
      "Parameters: { \"colsample_by_node\" } are not used.\n",
      "\n",
      "0.7695652173913043\n",
      "[[  1   2   0   0   0   0   0   1   0   0   6   0   0   0   0   0]\n",
      " [  0   2   3   0   0   0   0   0   0   0   3   2   0   0   0   0]\n",
      " [  0   0   4   0   0   0   0   0   0   0   4   0   1   1   0   0]\n",
      " [  0   0   0   5   0   0   0   0   0   0   5   0   0   0   0   0]\n",
      " [  0   0   0   0   1   0   0   0   0   0   9   0   0   0   0   0]\n",
      " [  0   0   2   0   0   1   0   0   0   0   6   0   1   0   0   0]\n",
      " [  0   2   0   0   0   0   1   0   0   0   6   0   1   0   0   0]\n",
      " [  0   2   0   0   0   0   0   1   1   0   5   0   0   1   0   0]\n",
      " [  0   0   0   0   0   0   0   0   8   0   2   0   0   0   0   0]\n",
      " [  0   0   0   0   0   0   0   0   0   7   3   0   0   0   0   0]\n",
      " [  0   2   3   0   0   1   0   2   2   0 297   0   2   1   0   0]\n",
      " [  0   1   0   0   0   0   0   0   0   0   6   3   0   0   0   0]\n",
      " [  0   0   1   0   0   0   0   0   1   0   1   0   4   2   0   1]\n",
      " [  0   0   0   0   0   0   0   1   0   0   0   0   0   5   1   3]\n",
      " [  0   0   0   0   0   0   0   0   0   0   4   0   0   0   6   0]\n",
      " [  0   0   0   0   0   0   0   0   0   0   2   0   0   0   0   8]]\n",
      "              precision    recall  f1-score   support\n",
      "\n",
      "           0       1.00      0.10      0.18        10\n",
      "           1       0.18      0.20      0.19        10\n",
      "           2       0.31      0.40      0.35        10\n",
      "           3       1.00      0.50      0.67        10\n",
      "           4       1.00      0.10      0.18        10\n",
      "           5       0.50      0.10      0.17        10\n",
      "           6       1.00      0.10      0.18        10\n",
      "           7       0.20      0.10      0.13        10\n",
      "           8       0.67      0.80      0.73        10\n",
      "           9       1.00      0.70      0.82        10\n",
      "          10       0.83      0.96      0.89       310\n",
      "          11       0.60      0.30      0.40        10\n",
      "          12       0.44      0.40      0.42        10\n",
      "          13       0.50      0.50      0.50        10\n",
      "          14       0.86      0.60      0.71        10\n",
      "          15       0.67      0.80      0.73        10\n",
      "\n",
      "    accuracy                           0.77       460\n",
      "   macro avg       0.67      0.42      0.45       460\n",
      "weighted avg       0.77      0.77      0.74       460\n",
      "\n"
     ]
    }
   ],
   "source": [
    "final_model(X_short, y_short, XGBClassifier(max_depth=2, colsample_by_node=0.5, random_state=2))\n"
   ]
  },
  {
   "cell_type": "code",
   "execution_count": 79,
   "id": "f69d0926",
   "metadata": {},
   "outputs": [
    {
     "name": "stdout",
     "output_type": "stream",
     "text": [
      "[17:32:48] WARNING: C:\\buildkite-agent\\builds\\buildkite-windows-cpu-autoscaling-group-i-0fdc6d574b9c0d168-1\\xgboost\\xgboost-ci-windows\\src\\learner.cc:767: \n",
      "Parameters: { \"scale_pos_weight\" } are not used.\n",
      "\n",
      "1.0\n",
      "[[ 10   0   0   0   0   0   0   0   0   0   0   0   0   0   0   0]\n",
      " [  0  10   0   0   0   0   0   0   0   0   0   0   0   0   0   0]\n",
      " [  0   0  10   0   0   0   0   0   0   0   0   0   0   0   0   0]\n",
      " [  0   0   0  10   0   0   0   0   0   0   0   0   0   0   0   0]\n",
      " [  0   0   0   0  10   0   0   0   0   0   0   0   0   0   0   0]\n",
      " [  0   0   0   0   0  10   0   0   0   0   0   0   0   0   0   0]\n",
      " [  0   0   0   0   0   0  10   0   0   0   0   0   0   0   0   0]\n",
      " [  0   0   0   0   0   0   0  10   0   0   0   0   0   0   0   0]\n",
      " [  0   0   0   0   0   0   0   0  10   0   0   0   0   0   0   0]\n",
      " [  0   0   0   0   0   0   0   0   0  10   0   0   0   0   0   0]\n",
      " [  0   0   0   0   0   0   0   0   0   0 310   0   0   0   0   0]\n",
      " [  0   0   0   0   0   0   0   0   0   0   0  10   0   0   0   0]\n",
      " [  0   0   0   0   0   0   0   0   0   0   0   0  10   0   0   0]\n",
      " [  0   0   0   0   0   0   0   0   0   0   0   0   0  10   0   0]\n",
      " [  0   0   0   0   0   0   0   0   0   0   0   0   0   0  10   0]\n",
      " [  0   0   0   0   0   0   0   0   0   0   0   0   0   0   0  10]]\n",
      "              precision    recall  f1-score   support\n",
      "\n",
      "           0       1.00      1.00      1.00        10\n",
      "           1       1.00      1.00      1.00        10\n",
      "           2       1.00      1.00      1.00        10\n",
      "           3       1.00      1.00      1.00        10\n",
      "           4       1.00      1.00      1.00        10\n",
      "           5       1.00      1.00      1.00        10\n",
      "           6       1.00      1.00      1.00        10\n",
      "           7       1.00      1.00      1.00        10\n",
      "           8       1.00      1.00      1.00        10\n",
      "           9       1.00      1.00      1.00        10\n",
      "          10       1.00      1.00      1.00       310\n",
      "          11       1.00      1.00      1.00        10\n",
      "          12       1.00      1.00      1.00        10\n",
      "          13       1.00      1.00      1.00        10\n",
      "          14       1.00      1.00      1.00        10\n",
      "          15       1.00      1.00      1.00        10\n",
      "\n",
      "    accuracy                           1.00       460\n",
      "   macro avg       1.00      1.00      1.00       460\n",
      "weighted avg       1.00      1.00      1.00       460\n",
      "\n"
     ]
    }
   ],
   "source": [
    "final_model(X, y, XGBClassifier(max_depth=2, colsample_bynode=0.5, scale_pos_weight=10, random_state=2))\n"
   ]
  },
  {
   "cell_type": "code",
   "execution_count": 82,
   "id": "8bca35bc",
   "metadata": {},
   "outputs": [],
   "source": [
    "weight = int(5050/37)\n"
   ]
  },
  {
   "cell_type": "code",
   "execution_count": 83,
   "id": "08d3aef0",
   "metadata": {},
   "outputs": [
    {
     "name": "stdout",
     "output_type": "stream",
     "text": [
      "[17:33:38] WARNING: C:\\buildkite-agent\\builds\\buildkite-windows-cpu-autoscaling-group-i-0fdc6d574b9c0d168-1\\xgboost\\xgboost-ci-windows\\src\\learner.cc:767: \n",
      "Parameters: { \"scale_pos_weight\" } are not used.\n",
      "\n",
      "1.0\n",
      "[[ 10   0   0   0   0   0   0   0   0   0   0   0   0   0   0   0]\n",
      " [  0  10   0   0   0   0   0   0   0   0   0   0   0   0   0   0]\n",
      " [  0   0  10   0   0   0   0   0   0   0   0   0   0   0   0   0]\n",
      " [  0   0   0  10   0   0   0   0   0   0   0   0   0   0   0   0]\n",
      " [  0   0   0   0  10   0   0   0   0   0   0   0   0   0   0   0]\n",
      " [  0   0   0   0   0  10   0   0   0   0   0   0   0   0   0   0]\n",
      " [  0   0   0   0   0   0  10   0   0   0   0   0   0   0   0   0]\n",
      " [  0   0   0   0   0   0   0  10   0   0   0   0   0   0   0   0]\n",
      " [  0   0   0   0   0   0   0   0  10   0   0   0   0   0   0   0]\n",
      " [  0   0   0   0   0   0   0   0   0  10   0   0   0   0   0   0]\n",
      " [  0   0   0   0   0   0   0   0   0   0 310   0   0   0   0   0]\n",
      " [  0   0   0   0   0   0   0   0   0   0   0  10   0   0   0   0]\n",
      " [  0   0   0   0   0   0   0   0   0   0   0   0  10   0   0   0]\n",
      " [  0   0   0   0   0   0   0   0   0   0   0   0   0  10   0   0]\n",
      " [  0   0   0   0   0   0   0   0   0   0   0   0   0   0  10   0]\n",
      " [  0   0   0   0   0   0   0   0   0   0   0   0   0   0   0  10]]\n",
      "              precision    recall  f1-score   support\n",
      "\n",
      "           0       1.00      1.00      1.00        10\n",
      "           1       1.00      1.00      1.00        10\n",
      "           2       1.00      1.00      1.00        10\n",
      "           3       1.00      1.00      1.00        10\n",
      "           4       1.00      1.00      1.00        10\n",
      "           5       1.00      1.00      1.00        10\n",
      "           6       1.00      1.00      1.00        10\n",
      "           7       1.00      1.00      1.00        10\n",
      "           8       1.00      1.00      1.00        10\n",
      "           9       1.00      1.00      1.00        10\n",
      "          10       1.00      1.00      1.00       310\n",
      "          11       1.00      1.00      1.00        10\n",
      "          12       1.00      1.00      1.00        10\n",
      "          13       1.00      1.00      1.00        10\n",
      "          14       1.00      1.00      1.00        10\n",
      "          15       1.00      1.00      1.00        10\n",
      "\n",
      "    accuracy                           1.00       460\n",
      "   macro avg       1.00      1.00      1.00       460\n",
      "weighted avg       1.00      1.00      1.00       460\n",
      "\n"
     ]
    }
   ],
   "source": [
    "final_model(X_all, y_all, XGBClassifier(max_depth=2, colsample_bynode=0.5, scale_pos_weight=weight, random_state=2))\n"
   ]
  },
  {
   "cell_type": "code",
   "execution_count": 85,
   "id": "eebdc367",
   "metadata": {},
   "outputs": [],
   "source": [
    "from sklearn.model_selection import train_test_split\n",
    "\n",
    "x = dfc.drop('y_true(fc)', axis=1)\n",
    "y = dfc['y_true(fc)']\n",
    "\n",
    "x_train, x_test, y_train, y_test = train_test_split(x, y, test_size=0.2, stratify=y, random_state=0)\n"
   ]
  },
  {
   "cell_type": "code",
   "execution_count": 92,
   "id": "1710aebc",
   "metadata": {},
   "outputs": [
    {
     "name": "stdout",
     "output_type": "stream",
     "text": [
      "3/3 [==============================] - 0s 1ms/step\n"
     ]
    }
   ],
   "source": [
    "y_predicted = model.predict(x_test) > 0.5"
   ]
  },
  {
   "cell_type": "code",
   "execution_count": 93,
   "id": "59390e75",
   "metadata": {},
   "outputs": [
    {
     "name": "stdout",
     "output_type": "stream",
     "text": [
      "              precision    recall  f1-score   support\n",
      "\n",
      "           0       0.00      0.00      0.00         2\n",
      "           1       0.02      1.00      0.04         2\n",
      "           2       0.00      0.00      0.00         2\n",
      "           3       0.00      0.00      0.00         2\n",
      "           4       0.00      0.00      0.00         2\n",
      "           5       0.00      0.00      0.00         2\n",
      "           6       0.00      0.00      0.00         2\n",
      "           7       0.00      0.00      0.00         2\n",
      "           8       0.00      0.00      0.00         2\n",
      "           9       0.00      0.00      0.00         2\n",
      "          10       0.00      0.00      0.00        62\n",
      "          11       0.00      0.00      0.00         2\n",
      "          12       0.00      0.00      0.00         2\n",
      "          13       0.00      0.00      0.00         2\n",
      "          14       0.00      0.00      0.00         2\n",
      "          15       0.00      0.00      0.00         2\n",
      "\n",
      "    accuracy                           0.02        92\n",
      "   macro avg       0.00      0.06      0.00        92\n",
      "weighted avg       0.00      0.02      0.00        92\n",
      "\n"
     ]
    }
   ],
   "source": [
    "from sklearn.metrics import classification_report\n",
    "print(classification_report(y_test, y_predicted))"
   ]
  },
  {
   "cell_type": "code",
   "execution_count": 94,
   "id": "83d1863b",
   "metadata": {},
   "outputs": [],
   "source": [
    "df = pd.read_csv(r'E:\\Network failure classification model using network digital twin\\training-data_a.csv')"
   ]
  },
  {
   "cell_type": "code",
   "execution_count": 95,
   "id": "503306be",
   "metadata": {},
   "outputs": [
    {
     "name": "stdout",
     "output_type": "stream",
     "text": [
      "<class 'pandas.core.frame.DataFrame'>\n",
      "RangeIndex: 3645 entries, 0 to 3644\n",
      "Columns: 4121 entries, time to upfx7_per-core-stats.per-core-stat.user_value\n",
      "dtypes: float64(215), int64(3903), object(3)\n",
      "memory usage: 114.6+ MB\n"
     ]
    }
   ],
   "source": [
    "df.info()"
   ]
  },
  {
   "cell_type": "code",
   "execution_count": 96,
   "id": "d00a9d70",
   "metadata": {},
   "outputs": [
    {
     "data": {
      "text/html": [
       "<div>\n",
       "<style scoped>\n",
       "    .dataframe tbody tr th:only-of-type {\n",
       "        vertical-align: middle;\n",
       "    }\n",
       "\n",
       "    .dataframe tbody tr th {\n",
       "        vertical-align: top;\n",
       "    }\n",
       "\n",
       "    .dataframe thead th {\n",
       "        text-align: right;\n",
       "    }\n",
       "</style>\n",
       "<table border=\"1\" class=\"dataframe\">\n",
       "  <thead>\n",
       "    <tr style=\"text-align: right;\">\n",
       "      <th></th>\n",
       "      <th>time</th>\n",
       "      <th>source_name</th>\n",
       "      <th>y_true(fc)</th>\n",
       "      <th>amfx1_ens3_oper-status</th>\n",
       "      <th>amfx1_ens3_phys-address</th>\n",
       "      <th>amfx1_ens3_speed</th>\n",
       "      <th>amfx1_ens3_statistics.in-octets</th>\n",
       "      <th>amfx1_ens3_statistics.in-unicast-pkts</th>\n",
       "      <th>amfx1_ens3_statistics.out-octets</th>\n",
       "      <th>amfx1_ens3_statistics.out-unicast-pkts</th>\n",
       "      <th>...</th>\n",
       "      <th>upfx7_memory-stats.free-percent_value</th>\n",
       "      <th>upfx7_memory-stats.memory-status_value</th>\n",
       "      <th>upfx7_memory-stats.used-number_value</th>\n",
       "      <th>upfx7_memory-stats.used-percent_value</th>\n",
       "      <th>upfx7_per-core-stats.per-core-stat.idle_value</th>\n",
       "      <th>upfx7_per-core-stats.per-core-stat.io-wait_value</th>\n",
       "      <th>upfx7_per-core-stats.per-core-stat.nice_value</th>\n",
       "      <th>upfx7_per-core-stats.per-core-stat.sirq_value</th>\n",
       "      <th>upfx7_per-core-stats.per-core-stat.system_value</th>\n",
       "      <th>upfx7_per-core-stats.per-core-stat.user_value</th>\n",
       "    </tr>\n",
       "  </thead>\n",
       "  <tbody>\n",
       "    <tr>\n",
       "      <th>0</th>\n",
       "      <td>20210128175112-4_20210128175200</td>\n",
       "      <td>network-5gc-a</td>\n",
       "      <td>udmx1_vcpu-overload-start</td>\n",
       "      <td>0</td>\n",
       "      <td>0</td>\n",
       "      <td>0</td>\n",
       "      <td>1</td>\n",
       "      <td>1</td>\n",
       "      <td>1</td>\n",
       "      <td>1</td>\n",
       "      <td>...</td>\n",
       "      <td>0</td>\n",
       "      <td>0</td>\n",
       "      <td>-3308</td>\n",
       "      <td>0</td>\n",
       "      <td>-0.22</td>\n",
       "      <td>0.03</td>\n",
       "      <td>0</td>\n",
       "      <td>0.0</td>\n",
       "      <td>-0.03</td>\n",
       "      <td>0.24</td>\n",
       "    </tr>\n",
       "  </tbody>\n",
       "</table>\n",
       "<p>1 rows × 4121 columns</p>\n",
       "</div>"
      ],
      "text/plain": [
       "                              time    source_name                 y_true(fc)  \\\n",
       "0  20210128175112-4_20210128175200  network-5gc-a  udmx1_vcpu-overload-start   \n",
       "\n",
       "   amfx1_ens3_oper-status  amfx1_ens3_phys-address  amfx1_ens3_speed  \\\n",
       "0                       0                        0                 0   \n",
       "\n",
       "   amfx1_ens3_statistics.in-octets  amfx1_ens3_statistics.in-unicast-pkts  \\\n",
       "0                                1                                      1   \n",
       "\n",
       "   amfx1_ens3_statistics.out-octets  amfx1_ens3_statistics.out-unicast-pkts  \\\n",
       "0                                 1                                       1   \n",
       "\n",
       "   ...  upfx7_memory-stats.free-percent_value  \\\n",
       "0  ...                                      0   \n",
       "\n",
       "   upfx7_memory-stats.memory-status_value  \\\n",
       "0                                       0   \n",
       "\n",
       "   upfx7_memory-stats.used-number_value  \\\n",
       "0                                 -3308   \n",
       "\n",
       "   upfx7_memory-stats.used-percent_value  \\\n",
       "0                                      0   \n",
       "\n",
       "   upfx7_per-core-stats.per-core-stat.idle_value  \\\n",
       "0                                          -0.22   \n",
       "\n",
       "   upfx7_per-core-stats.per-core-stat.io-wait_value  \\\n",
       "0                                              0.03   \n",
       "\n",
       "   upfx7_per-core-stats.per-core-stat.nice_value  \\\n",
       "0                                              0   \n",
       "\n",
       "   upfx7_per-core-stats.per-core-stat.sirq_value  \\\n",
       "0                                            0.0   \n",
       "\n",
       "   upfx7_per-core-stats.per-core-stat.system_value  \\\n",
       "0                                            -0.03   \n",
       "\n",
       "   upfx7_per-core-stats.per-core-stat.user_value  \n",
       "0                                           0.24  \n",
       "\n",
       "[1 rows x 4121 columns]"
      ]
     },
     "execution_count": 96,
     "metadata": {},
     "output_type": "execute_result"
    }
   ],
   "source": [
    "df.head(1)"
   ]
  },
  {
   "cell_type": "code",
   "execution_count": 97,
   "id": "38c49f52",
   "metadata": {},
   "outputs": [],
   "source": [
    "del df['time']\n",
    "del df['source_name']"
   ]
  },
  {
   "cell_type": "code",
   "execution_count": 99,
   "id": "383881f1",
   "metadata": {},
   "outputs": [],
   "source": [
    "from sklearn.preprocessing import LabelEncoder\n",
    "le = LabelEncoder()\n",
    "label = le.fit_transform(df['y_true(fc)'])\n",
    "df['y_true(fc)'] = label"
   ]
  },
  {
   "cell_type": "code",
   "execution_count": 100,
   "id": "197896cb",
   "metadata": {},
   "outputs": [
    {
     "data": {
      "text/html": [
       "<div>\n",
       "<style scoped>\n",
       "    .dataframe tbody tr th:only-of-type {\n",
       "        vertical-align: middle;\n",
       "    }\n",
       "\n",
       "    .dataframe tbody tr th {\n",
       "        vertical-align: top;\n",
       "    }\n",
       "\n",
       "    .dataframe thead th {\n",
       "        text-align: right;\n",
       "    }\n",
       "</style>\n",
       "<table border=\"1\" class=\"dataframe\">\n",
       "  <thead>\n",
       "    <tr style=\"text-align: right;\">\n",
       "      <th></th>\n",
       "      <th>y_true(fc)</th>\n",
       "      <th>amfx1_ens3_oper-status</th>\n",
       "      <th>amfx1_ens3_phys-address</th>\n",
       "      <th>amfx1_ens3_speed</th>\n",
       "      <th>amfx1_ens3_statistics.in-octets</th>\n",
       "      <th>amfx1_ens3_statistics.in-unicast-pkts</th>\n",
       "      <th>amfx1_ens3_statistics.out-octets</th>\n",
       "      <th>amfx1_ens3_statistics.out-unicast-pkts</th>\n",
       "      <th>amfx1_ens3_oper-status_value</th>\n",
       "      <th>amfx1_ens3_phys-address_value</th>\n",
       "      <th>...</th>\n",
       "      <th>upfx7_memory-stats.free-percent_value</th>\n",
       "      <th>upfx7_memory-stats.memory-status_value</th>\n",
       "      <th>upfx7_memory-stats.used-number_value</th>\n",
       "      <th>upfx7_memory-stats.used-percent_value</th>\n",
       "      <th>upfx7_per-core-stats.per-core-stat.idle_value</th>\n",
       "      <th>upfx7_per-core-stats.per-core-stat.io-wait_value</th>\n",
       "      <th>upfx7_per-core-stats.per-core-stat.nice_value</th>\n",
       "      <th>upfx7_per-core-stats.per-core-stat.sirq_value</th>\n",
       "      <th>upfx7_per-core-stats.per-core-stat.system_value</th>\n",
       "      <th>upfx7_per-core-stats.per-core-stat.user_value</th>\n",
       "    </tr>\n",
       "  </thead>\n",
       "  <tbody>\n",
       "    <tr>\n",
       "      <th>0</th>\n",
       "      <td>15</td>\n",
       "      <td>0</td>\n",
       "      <td>0</td>\n",
       "      <td>0</td>\n",
       "      <td>1</td>\n",
       "      <td>1</td>\n",
       "      <td>1</td>\n",
       "      <td>1</td>\n",
       "      <td>0</td>\n",
       "      <td>0</td>\n",
       "      <td>...</td>\n",
       "      <td>0</td>\n",
       "      <td>0</td>\n",
       "      <td>-3308</td>\n",
       "      <td>0</td>\n",
       "      <td>-0.22</td>\n",
       "      <td>0.03</td>\n",
       "      <td>0</td>\n",
       "      <td>0.0</td>\n",
       "      <td>-0.03</td>\n",
       "      <td>0.24</td>\n",
       "    </tr>\n",
       "  </tbody>\n",
       "</table>\n",
       "<p>1 rows × 4119 columns</p>\n",
       "</div>"
      ],
      "text/plain": [
       "   y_true(fc)  amfx1_ens3_oper-status  amfx1_ens3_phys-address  \\\n",
       "0          15                       0                        0   \n",
       "\n",
       "   amfx1_ens3_speed  amfx1_ens3_statistics.in-octets  \\\n",
       "0                 0                                1   \n",
       "\n",
       "   amfx1_ens3_statistics.in-unicast-pkts  amfx1_ens3_statistics.out-octets  \\\n",
       "0                                      1                                 1   \n",
       "\n",
       "   amfx1_ens3_statistics.out-unicast-pkts  amfx1_ens3_oper-status_value  \\\n",
       "0                                       1                             0   \n",
       "\n",
       "   amfx1_ens3_phys-address_value  ...  upfx7_memory-stats.free-percent_value  \\\n",
       "0                              0  ...                                      0   \n",
       "\n",
       "   upfx7_memory-stats.memory-status_value  \\\n",
       "0                                       0   \n",
       "\n",
       "   upfx7_memory-stats.used-number_value  \\\n",
       "0                                 -3308   \n",
       "\n",
       "   upfx7_memory-stats.used-percent_value  \\\n",
       "0                                      0   \n",
       "\n",
       "   upfx7_per-core-stats.per-core-stat.idle_value  \\\n",
       "0                                          -0.22   \n",
       "\n",
       "   upfx7_per-core-stats.per-core-stat.io-wait_value  \\\n",
       "0                                              0.03   \n",
       "\n",
       "   upfx7_per-core-stats.per-core-stat.nice_value  \\\n",
       "0                                              0   \n",
       "\n",
       "   upfx7_per-core-stats.per-core-stat.sirq_value  \\\n",
       "0                                            0.0   \n",
       "\n",
       "   upfx7_per-core-stats.per-core-stat.system_value  \\\n",
       "0                                            -0.03   \n",
       "\n",
       "   upfx7_per-core-stats.per-core-stat.user_value  \n",
       "0                                           0.24  \n",
       "\n",
       "[1 rows x 4119 columns]"
      ]
     },
     "execution_count": 100,
     "metadata": {},
     "output_type": "execute_result"
    }
   ],
   "source": [
    "df.head(1)"
   ]
  },
  {
   "cell_type": "code",
   "execution_count": 101,
   "id": "178e4f4c",
   "metadata": {},
   "outputs": [],
   "source": [
    "import pandas as pd\n",
    "import numpy as np\n",
    "from sklearn.model_selection import cross_val_score\n",
    "from xgboost import XGBClassifier, XGBRFClassifier\n",
    "from sklearn.ensemble import RandomForestClassifier, StackingClassifier\n",
    "from sklearn.linear_model import LogisticRegression\n",
    "from sklearn.model_selection import train_test_split, StratifiedKFold\n",
    "from sklearn.metrics import accuracy_score\n",
    "from sklearn.ensemble import VotingClassifier\n",
    "# Silence warnings\n",
    "import warnings\n",
    "warnings.filterwarnings('ignore')"
   ]
  },
  {
   "cell_type": "code",
   "execution_count": 103,
   "id": "36cce903",
   "metadata": {},
   "outputs": [],
   "source": [
    "X = df.drop('y_true(fc)', axis=1)\n",
    "y = df['y_true(fc)']"
   ]
  },
  {
   "cell_type": "code",
   "execution_count": 104,
   "id": "ac6a2d29",
   "metadata": {},
   "outputs": [],
   "source": [
    "kfold = StratifiedKFold(n_splits=5)\n",
    "from sklearn.model_selection import cross_val_score\n",
    "\n",
    "def classification_model(model):\n",
    "    # Obtain scores of cross-validation using 5 splits\n",
    "    scores = cross_val_score(model, X, y, cv=kfold)\n",
    "\n",
    "    # Return mean score\n",
    "    return scores.mean()"
   ]
  },
  {
   "cell_type": "code",
   "execution_count": 105,
   "id": "bd705732",
   "metadata": {},
   "outputs": [
    {
     "data": {
      "text/plain": [
       "0.9739368998628258"
      ]
     },
     "execution_count": 105,
     "metadata": {},
     "output_type": "execute_result"
    }
   ],
   "source": [
    "classification_model(XGBClassifier())\n"
   ]
  },
  {
   "cell_type": "code",
   "execution_count": 106,
   "id": "a0bb7ad8",
   "metadata": {},
   "outputs": [
    {
     "data": {
      "text/plain": [
       "0.9731138545953361"
      ]
     },
     "execution_count": 106,
     "metadata": {},
     "output_type": "execute_result"
    }
   ],
   "source": [
    "classification_model(XGBClassifier(n_estimators=800, max_depth=4, colsample_bylevel=0.8))\n"
   ]
  },
  {
   "cell_type": "code",
   "execution_count": 109,
   "id": "c5cabdbc",
   "metadata": {},
   "outputs": [],
   "source": [
    "X_train, X_test, y_train, y_test = train_test_split(X, y, random_state=2)\n"
   ]
  },
  {
   "cell_type": "code",
   "execution_count": 110,
   "id": "fbd3eb7b",
   "metadata": {},
   "outputs": [],
   "source": [
    "def y_pred(model):\n",
    "    model.fit(X_train, y_train)\n",
    "    y_pred = model.predict(X_test)\n",
    "    score = accuracy_score(y_pred, y_test)\n",
    "    print(score)\n",
    "    return y_pred"
   ]
  },
  {
   "cell_type": "code",
   "execution_count": 111,
   "id": "31cb79d0",
   "metadata": {},
   "outputs": [
    {
     "name": "stdout",
     "output_type": "stream",
     "text": [
      "0.9692982456140351\n"
     ]
    }
   ],
   "source": [
    "y_pred_gbtree = y_pred(XGBClassifier())\n"
   ]
  },
  {
   "cell_type": "code",
   "execution_count": 113,
   "id": "1a107848",
   "metadata": {},
   "outputs": [
    {
     "name": "stdout",
     "output_type": "stream",
     "text": [
      "0.9265350877192983\n"
     ]
    }
   ],
   "source": [
    "y_pred_forest = y_pred(RandomForestClassifier(random_state=2))\n"
   ]
  },
  {
   "cell_type": "code",
   "execution_count": 114,
   "id": "ab12e5b7",
   "metadata": {
    "scrolled": true
   },
   "outputs": [
    {
     "name": "stdout",
     "output_type": "stream",
     "text": [
      "0.6140350877192983\n"
     ]
    }
   ],
   "source": [
    "y_pred_logistic = y_pred(LogisticRegression(max_iter=10000))\n"
   ]
  },
  {
   "cell_type": "code",
   "execution_count": 115,
   "id": "ea57a987",
   "metadata": {},
   "outputs": [
    {
     "name": "stdout",
     "output_type": "stream",
     "text": [
      "0.9703947368421053\n"
     ]
    }
   ],
   "source": [
    "y_pred_xgb = y_pred(XGBClassifier(max_depth=2, n_estimators=500, learning_rate=0.1))"
   ]
  },
  {
   "cell_type": "code",
   "execution_count": 120,
   "id": "0b6b702d",
   "metadata": {},
   "outputs": [],
   "source": [
    "df_pred = pd.DataFrame(data= np.c_[y_pred_gbtree, y_pred_forest, y_pred_logistic, y_pred_xgb],  columns=['gbtree', 'forest', 'logistic', 'xgb'])"
   ]
  },
  {
   "cell_type": "code",
   "execution_count": 123,
   "id": "616d1af4",
   "metadata": {},
   "outputs": [
    {
     "data": {
      "text/html": [
       "<div>\n",
       "<style scoped>\n",
       "    .dataframe tbody tr th:only-of-type {\n",
       "        vertical-align: middle;\n",
       "    }\n",
       "\n",
       "    .dataframe tbody tr th {\n",
       "        vertical-align: top;\n",
       "    }\n",
       "\n",
       "    .dataframe thead th {\n",
       "        text-align: right;\n",
       "    }\n",
       "</style>\n",
       "<table border=\"1\" class=\"dataframe\">\n",
       "  <thead>\n",
       "    <tr style=\"text-align: right;\">\n",
       "      <th></th>\n",
       "      <th>gbtree</th>\n",
       "      <th>forest</th>\n",
       "      <th>logistic</th>\n",
       "      <th>xgb</th>\n",
       "    </tr>\n",
       "  </thead>\n",
       "  <tbody>\n",
       "    <tr>\n",
       "      <th>gbtree</th>\n",
       "      <td>1.000000</td>\n",
       "      <td>0.948955</td>\n",
       "      <td>0.035535</td>\n",
       "      <td>0.991014</td>\n",
       "    </tr>\n",
       "    <tr>\n",
       "      <th>forest</th>\n",
       "      <td>0.948955</td>\n",
       "      <td>1.000000</td>\n",
       "      <td>0.030469</td>\n",
       "      <td>0.949369</td>\n",
       "    </tr>\n",
       "    <tr>\n",
       "      <th>logistic</th>\n",
       "      <td>0.035535</td>\n",
       "      <td>0.030469</td>\n",
       "      <td>1.000000</td>\n",
       "      <td>0.022409</td>\n",
       "    </tr>\n",
       "    <tr>\n",
       "      <th>xgb</th>\n",
       "      <td>0.991014</td>\n",
       "      <td>0.949369</td>\n",
       "      <td>0.022409</td>\n",
       "      <td>1.000000</td>\n",
       "    </tr>\n",
       "  </tbody>\n",
       "</table>\n",
       "</div>"
      ],
      "text/plain": [
       "            gbtree    forest  logistic       xgb\n",
       "gbtree    1.000000  0.948955  0.035535  0.991014\n",
       "forest    0.948955  1.000000  0.030469  0.949369\n",
       "logistic  0.035535  0.030469  1.000000  0.022409\n",
       "xgb       0.991014  0.949369  0.022409  1.000000"
      ]
     },
     "execution_count": 123,
     "metadata": {},
     "output_type": "execute_result"
    }
   ],
   "source": [
    "df_pred.corr()"
   ]
  },
  {
   "cell_type": "code",
   "execution_count": 154,
   "id": "4fb13325",
   "metadata": {},
   "outputs": [
    {
     "data": {
      "text/plain": [
       "y_true(fc)                                          0\n",
       "amfx1_ens3_oper-status                              0\n",
       "amfx1_ens3_phys-address                             0\n",
       "amfx1_ens3_speed                                    0\n",
       "amfx1_ens3_statistics.in-octets                     0\n",
       "                                                   ..\n",
       "upfx7_per-core-stats.per-core-stat.io-wait_value    0\n",
       "upfx7_per-core-stats.per-core-stat.nice_value       0\n",
       "upfx7_per-core-stats.per-core-stat.sirq_value       0\n",
       "upfx7_per-core-stats.per-core-stat.system_value     0\n",
       "upfx7_per-core-stats.per-core-stat.user_value       0\n",
       "Length: 4119, dtype: int64"
      ]
     },
     "execution_count": 154,
     "metadata": {},
     "output_type": "execute_result"
    }
   ],
   "source": [
    "df.isna().sum()"
   ]
  },
  {
   "cell_type": "code",
   "execution_count": 155,
   "id": "0162b453",
   "metadata": {},
   "outputs": [
    {
     "data": {
      "text/html": [
       "<div>\n",
       "<style scoped>\n",
       "    .dataframe tbody tr th:only-of-type {\n",
       "        vertical-align: middle;\n",
       "    }\n",
       "\n",
       "    .dataframe tbody tr th {\n",
       "        vertical-align: top;\n",
       "    }\n",
       "\n",
       "    .dataframe thead th {\n",
       "        text-align: right;\n",
       "    }\n",
       "</style>\n",
       "<table border=\"1\" class=\"dataframe\">\n",
       "  <thead>\n",
       "    <tr style=\"text-align: right;\">\n",
       "      <th></th>\n",
       "      <th>y_true(fc)</th>\n",
       "      <th>amfx1_ens3_oper-status</th>\n",
       "      <th>amfx1_ens3_phys-address</th>\n",
       "      <th>amfx1_ens3_speed</th>\n",
       "      <th>amfx1_ens3_statistics.in-octets</th>\n",
       "      <th>amfx1_ens3_statistics.in-unicast-pkts</th>\n",
       "      <th>amfx1_ens3_statistics.out-octets</th>\n",
       "      <th>amfx1_ens3_statistics.out-unicast-pkts</th>\n",
       "      <th>amfx1_ens3_oper-status_value</th>\n",
       "      <th>amfx1_ens3_phys-address_value</th>\n",
       "      <th>...</th>\n",
       "      <th>upfx7_memory-stats.free-percent_value</th>\n",
       "      <th>upfx7_memory-stats.memory-status_value</th>\n",
       "      <th>upfx7_memory-stats.used-number_value</th>\n",
       "      <th>upfx7_memory-stats.used-percent_value</th>\n",
       "      <th>upfx7_per-core-stats.per-core-stat.idle_value</th>\n",
       "      <th>upfx7_per-core-stats.per-core-stat.io-wait_value</th>\n",
       "      <th>upfx7_per-core-stats.per-core-stat.nice_value</th>\n",
       "      <th>upfx7_per-core-stats.per-core-stat.sirq_value</th>\n",
       "      <th>upfx7_per-core-stats.per-core-stat.system_value</th>\n",
       "      <th>upfx7_per-core-stats.per-core-stat.user_value</th>\n",
       "    </tr>\n",
       "  </thead>\n",
       "  <tbody>\n",
       "    <tr>\n",
       "      <th>0</th>\n",
       "      <td>15</td>\n",
       "      <td>0</td>\n",
       "      <td>0</td>\n",
       "      <td>0</td>\n",
       "      <td>1</td>\n",
       "      <td>1</td>\n",
       "      <td>1</td>\n",
       "      <td>1</td>\n",
       "      <td>0</td>\n",
       "      <td>0</td>\n",
       "      <td>...</td>\n",
       "      <td>0</td>\n",
       "      <td>0</td>\n",
       "      <td>-3308</td>\n",
       "      <td>0</td>\n",
       "      <td>-0.22</td>\n",
       "      <td>0.03</td>\n",
       "      <td>0</td>\n",
       "      <td>0.0</td>\n",
       "      <td>-0.03</td>\n",
       "      <td>0.24</td>\n",
       "    </tr>\n",
       "  </tbody>\n",
       "</table>\n",
       "<p>1 rows × 4119 columns</p>\n",
       "</div>"
      ],
      "text/plain": [
       "   y_true(fc)  amfx1_ens3_oper-status  amfx1_ens3_phys-address  \\\n",
       "0          15                       0                        0   \n",
       "\n",
       "   amfx1_ens3_speed  amfx1_ens3_statistics.in-octets  \\\n",
       "0                 0                                1   \n",
       "\n",
       "   amfx1_ens3_statistics.in-unicast-pkts  amfx1_ens3_statistics.out-octets  \\\n",
       "0                                      1                                 1   \n",
       "\n",
       "   amfx1_ens3_statistics.out-unicast-pkts  amfx1_ens3_oper-status_value  \\\n",
       "0                                       1                             0   \n",
       "\n",
       "   amfx1_ens3_phys-address_value  ...  upfx7_memory-stats.free-percent_value  \\\n",
       "0                              0  ...                                      0   \n",
       "\n",
       "   upfx7_memory-stats.memory-status_value  \\\n",
       "0                                       0   \n",
       "\n",
       "   upfx7_memory-stats.used-number_value  \\\n",
       "0                                 -3308   \n",
       "\n",
       "   upfx7_memory-stats.used-percent_value  \\\n",
       "0                                      0   \n",
       "\n",
       "   upfx7_per-core-stats.per-core-stat.idle_value  \\\n",
       "0                                          -0.22   \n",
       "\n",
       "   upfx7_per-core-stats.per-core-stat.io-wait_value  \\\n",
       "0                                              0.03   \n",
       "\n",
       "   upfx7_per-core-stats.per-core-stat.nice_value  \\\n",
       "0                                              0   \n",
       "\n",
       "   upfx7_per-core-stats.per-core-stat.sirq_value  \\\n",
       "0                                            0.0   \n",
       "\n",
       "   upfx7_per-core-stats.per-core-stat.system_value  \\\n",
       "0                                            -0.03   \n",
       "\n",
       "   upfx7_per-core-stats.per-core-stat.user_value  \n",
       "0                                           0.24  \n",
       "\n",
       "[1 rows x 4119 columns]"
      ]
     },
     "execution_count": 155,
     "metadata": {},
     "output_type": "execute_result"
    }
   ],
   "source": [
    "df.head(1)"
   ]
  },
  {
   "cell_type": "code",
   "execution_count": 192,
   "id": "1033f440",
   "metadata": {},
   "outputs": [],
   "source": [
    "df = pd.read_csv(r'E:\\Network failure classification model using network digital twin\\training-data_a.csv')"
   ]
  },
  {
   "cell_type": "code",
   "execution_count": 193,
   "id": "23ee8fba",
   "metadata": {},
   "outputs": [],
   "source": [
    "df.dropna(inplace=True)"
   ]
  },
  {
   "cell_type": "code",
   "execution_count": 194,
   "id": "0e3498ff",
   "metadata": {},
   "outputs": [
    {
     "data": {
      "text/html": [
       "<div>\n",
       "<style scoped>\n",
       "    .dataframe tbody tr th:only-of-type {\n",
       "        vertical-align: middle;\n",
       "    }\n",
       "\n",
       "    .dataframe tbody tr th {\n",
       "        vertical-align: top;\n",
       "    }\n",
       "\n",
       "    .dataframe thead th {\n",
       "        text-align: right;\n",
       "    }\n",
       "</style>\n",
       "<table border=\"1\" class=\"dataframe\">\n",
       "  <thead>\n",
       "    <tr style=\"text-align: right;\">\n",
       "      <th></th>\n",
       "      <th>time</th>\n",
       "      <th>source_name</th>\n",
       "      <th>y_true(fc)</th>\n",
       "      <th>amfx1_ens3_oper-status</th>\n",
       "      <th>amfx1_ens3_phys-address</th>\n",
       "      <th>amfx1_ens3_speed</th>\n",
       "      <th>amfx1_ens3_statistics.in-octets</th>\n",
       "      <th>amfx1_ens3_statistics.in-unicast-pkts</th>\n",
       "      <th>amfx1_ens3_statistics.out-octets</th>\n",
       "      <th>amfx1_ens3_statistics.out-unicast-pkts</th>\n",
       "      <th>...</th>\n",
       "      <th>upfx7_memory-stats.free-percent_value</th>\n",
       "      <th>upfx7_memory-stats.memory-status_value</th>\n",
       "      <th>upfx7_memory-stats.used-number_value</th>\n",
       "      <th>upfx7_memory-stats.used-percent_value</th>\n",
       "      <th>upfx7_per-core-stats.per-core-stat.idle_value</th>\n",
       "      <th>upfx7_per-core-stats.per-core-stat.io-wait_value</th>\n",
       "      <th>upfx7_per-core-stats.per-core-stat.nice_value</th>\n",
       "      <th>upfx7_per-core-stats.per-core-stat.sirq_value</th>\n",
       "      <th>upfx7_per-core-stats.per-core-stat.system_value</th>\n",
       "      <th>upfx7_per-core-stats.per-core-stat.user_value</th>\n",
       "    </tr>\n",
       "  </thead>\n",
       "  <tbody>\n",
       "    <tr>\n",
       "      <th>0</th>\n",
       "      <td>20210128175112-4_20210128175200</td>\n",
       "      <td>network-5gc-a</td>\n",
       "      <td>udmx1_vcpu-overload-start</td>\n",
       "      <td>0</td>\n",
       "      <td>0</td>\n",
       "      <td>0</td>\n",
       "      <td>1</td>\n",
       "      <td>1</td>\n",
       "      <td>1</td>\n",
       "      <td>1</td>\n",
       "      <td>...</td>\n",
       "      <td>0</td>\n",
       "      <td>0</td>\n",
       "      <td>-3308</td>\n",
       "      <td>0</td>\n",
       "      <td>-0.22</td>\n",
       "      <td>0.03</td>\n",
       "      <td>0</td>\n",
       "      <td>0.0</td>\n",
       "      <td>-0.03</td>\n",
       "      <td>0.24</td>\n",
       "    </tr>\n",
       "  </tbody>\n",
       "</table>\n",
       "<p>1 rows × 4121 columns</p>\n",
       "</div>"
      ],
      "text/plain": [
       "                              time    source_name                 y_true(fc)  \\\n",
       "0  20210128175112-4_20210128175200  network-5gc-a  udmx1_vcpu-overload-start   \n",
       "\n",
       "   amfx1_ens3_oper-status  amfx1_ens3_phys-address  amfx1_ens3_speed  \\\n",
       "0                       0                        0                 0   \n",
       "\n",
       "   amfx1_ens3_statistics.in-octets  amfx1_ens3_statistics.in-unicast-pkts  \\\n",
       "0                                1                                      1   \n",
       "\n",
       "   amfx1_ens3_statistics.out-octets  amfx1_ens3_statistics.out-unicast-pkts  \\\n",
       "0                                 1                                       1   \n",
       "\n",
       "   ...  upfx7_memory-stats.free-percent_value  \\\n",
       "0  ...                                      0   \n",
       "\n",
       "   upfx7_memory-stats.memory-status_value  \\\n",
       "0                                       0   \n",
       "\n",
       "   upfx7_memory-stats.used-number_value  \\\n",
       "0                                 -3308   \n",
       "\n",
       "   upfx7_memory-stats.used-percent_value  \\\n",
       "0                                      0   \n",
       "\n",
       "   upfx7_per-core-stats.per-core-stat.idle_value  \\\n",
       "0                                          -0.22   \n",
       "\n",
       "   upfx7_per-core-stats.per-core-stat.io-wait_value  \\\n",
       "0                                              0.03   \n",
       "\n",
       "   upfx7_per-core-stats.per-core-stat.nice_value  \\\n",
       "0                                              0   \n",
       "\n",
       "   upfx7_per-core-stats.per-core-stat.sirq_value  \\\n",
       "0                                            0.0   \n",
       "\n",
       "   upfx7_per-core-stats.per-core-stat.system_value  \\\n",
       "0                                            -0.03   \n",
       "\n",
       "   upfx7_per-core-stats.per-core-stat.user_value  \n",
       "0                                           0.24  \n",
       "\n",
       "[1 rows x 4121 columns]"
      ]
     },
     "execution_count": 194,
     "metadata": {},
     "output_type": "execute_result"
    }
   ],
   "source": [
    "df.head(1)"
   ]
  },
  {
   "cell_type": "code",
   "execution_count": 195,
   "id": "f076c741",
   "metadata": {},
   "outputs": [],
   "source": [
    "del df['time']\n",
    "del df['source_name']"
   ]
  },
  {
   "cell_type": "code",
   "execution_count": 196,
   "id": "1b342416",
   "metadata": {},
   "outputs": [],
   "source": [
    "from sklearn.preprocessing import LabelEncoder\n",
    "le = LabelEncoder()\n",
    "label = le.fit_transform(df['y_true(fc)'])\n",
    "df['y_true(fc)'] = label"
   ]
  },
  {
   "cell_type": "code",
   "execution_count": 197,
   "id": "01546a17",
   "metadata": {},
   "outputs": [],
   "source": [
    "df.replace([np.inf, -np.inf], np.nan, inplace=True)"
   ]
  },
  {
   "cell_type": "code",
   "execution_count": 198,
   "id": "4af67c4c",
   "metadata": {},
   "outputs": [],
   "source": [
    "test_target = df.pop('y_true(fc)')"
   ]
  },
  {
   "cell_type": "code",
   "execution_count": 35,
   "id": "844e9270",
   "metadata": {},
   "outputs": [],
   "source": [
    "import numpy as np\n",
    "import pandas as pd\n",
    "from matplotlib import pyplot\n",
    "from pandas import read_csv, set_option\n",
    "from pandas.plotting import scatter_matrix\n",
    "import seaborn as sns\n",
    "from sklearn.preprocessing import StandardScaler\n",
    "from sklearn.model_selection import train_test_split, KFold, cross_val_score, GridSearchCV\n",
    "from sklearn.linear_model import LogisticRegression\n",
    "from sklearn.tree import DecisionTreeClassifier\n",
    "from sklearn.neighbors import KNeighborsClassifier\n",
    "from sklearn.discriminant_analysis import LinearDiscriminantAnalysis\n",
    "from sklearn.naive_bayes import GaussianNB\n",
    "from sklearn.svm import SVC\n",
    "from sklearn.neural_network import MLPClassifier\n",
    "from sklearn.pipeline import Pipeline\n",
    "from sklearn.ensemble import AdaBoostClassifier, GradientBoostingClassifier, RandomForestClassifier, ExtraTreesClassifier\n",
    "from sklearn.metrics import classification_report, confusion_matrix, accuracy_score\n",
    "\n",
    "from sklearn.preprocessing import LabelEncoder"
   ]
  },
  {
   "cell_type": "code",
   "execution_count": 36,
   "id": "16cbcdd6",
   "metadata": {},
   "outputs": [],
   "source": [
    "df_a = pd.read_csv(r'E:\\Network failure classification model using network digital twin\\training-data_a.csv')"
   ]
  },
  {
   "cell_type": "code",
   "execution_count": 37,
   "id": "1b1fd894",
   "metadata": {},
   "outputs": [
    {
     "data": {
      "text/html": [
       "<div>\n",
       "<style scoped>\n",
       "    .dataframe tbody tr th:only-of-type {\n",
       "        vertical-align: middle;\n",
       "    }\n",
       "\n",
       "    .dataframe tbody tr th {\n",
       "        vertical-align: top;\n",
       "    }\n",
       "\n",
       "    .dataframe thead th {\n",
       "        text-align: right;\n",
       "    }\n",
       "</style>\n",
       "<table border=\"1\" class=\"dataframe\">\n",
       "  <thead>\n",
       "    <tr style=\"text-align: right;\">\n",
       "      <th></th>\n",
       "      <th>time</th>\n",
       "      <th>source_name</th>\n",
       "      <th>y_true(fc)</th>\n",
       "      <th>amfx1_ens3_oper-status</th>\n",
       "      <th>amfx1_ens3_phys-address</th>\n",
       "      <th>amfx1_ens3_speed</th>\n",
       "      <th>amfx1_ens3_statistics.in-octets</th>\n",
       "      <th>amfx1_ens3_statistics.in-unicast-pkts</th>\n",
       "      <th>amfx1_ens3_statistics.out-octets</th>\n",
       "      <th>amfx1_ens3_statistics.out-unicast-pkts</th>\n",
       "      <th>...</th>\n",
       "      <th>upfx7_memory-stats.free-percent_value</th>\n",
       "      <th>upfx7_memory-stats.memory-status_value</th>\n",
       "      <th>upfx7_memory-stats.used-number_value</th>\n",
       "      <th>upfx7_memory-stats.used-percent_value</th>\n",
       "      <th>upfx7_per-core-stats.per-core-stat.idle_value</th>\n",
       "      <th>upfx7_per-core-stats.per-core-stat.io-wait_value</th>\n",
       "      <th>upfx7_per-core-stats.per-core-stat.nice_value</th>\n",
       "      <th>upfx7_per-core-stats.per-core-stat.sirq_value</th>\n",
       "      <th>upfx7_per-core-stats.per-core-stat.system_value</th>\n",
       "      <th>upfx7_per-core-stats.per-core-stat.user_value</th>\n",
       "    </tr>\n",
       "  </thead>\n",
       "  <tbody>\n",
       "    <tr>\n",
       "      <th>0</th>\n",
       "      <td>20210128175112-4_20210128175200</td>\n",
       "      <td>network-5gc-a</td>\n",
       "      <td>udmx1_vcpu-overload-start</td>\n",
       "      <td>0</td>\n",
       "      <td>0</td>\n",
       "      <td>0</td>\n",
       "      <td>1</td>\n",
       "      <td>1</td>\n",
       "      <td>1</td>\n",
       "      <td>1</td>\n",
       "      <td>...</td>\n",
       "      <td>0</td>\n",
       "      <td>0</td>\n",
       "      <td>-3308</td>\n",
       "      <td>0</td>\n",
       "      <td>-0.22</td>\n",
       "      <td>0.03</td>\n",
       "      <td>0</td>\n",
       "      <td>0.0</td>\n",
       "      <td>-0.03</td>\n",
       "      <td>0.24</td>\n",
       "    </tr>\n",
       "  </tbody>\n",
       "</table>\n",
       "<p>1 rows × 4121 columns</p>\n",
       "</div>"
      ],
      "text/plain": [
       "                              time    source_name                 y_true(fc)  \\\n",
       "0  20210128175112-4_20210128175200  network-5gc-a  udmx1_vcpu-overload-start   \n",
       "\n",
       "   amfx1_ens3_oper-status  amfx1_ens3_phys-address  amfx1_ens3_speed  \\\n",
       "0                       0                        0                 0   \n",
       "\n",
       "   amfx1_ens3_statistics.in-octets  amfx1_ens3_statistics.in-unicast-pkts  \\\n",
       "0                                1                                      1   \n",
       "\n",
       "   amfx1_ens3_statistics.out-octets  amfx1_ens3_statistics.out-unicast-pkts  \\\n",
       "0                                 1                                       1   \n",
       "\n",
       "   ...  upfx7_memory-stats.free-percent_value  \\\n",
       "0  ...                                      0   \n",
       "\n",
       "   upfx7_memory-stats.memory-status_value  \\\n",
       "0                                       0   \n",
       "\n",
       "   upfx7_memory-stats.used-number_value  \\\n",
       "0                                 -3308   \n",
       "\n",
       "   upfx7_memory-stats.used-percent_value  \\\n",
       "0                                      0   \n",
       "\n",
       "   upfx7_per-core-stats.per-core-stat.idle_value  \\\n",
       "0                                          -0.22   \n",
       "\n",
       "   upfx7_per-core-stats.per-core-stat.io-wait_value  \\\n",
       "0                                              0.03   \n",
       "\n",
       "   upfx7_per-core-stats.per-core-stat.nice_value  \\\n",
       "0                                              0   \n",
       "\n",
       "   upfx7_per-core-stats.per-core-stat.sirq_value  \\\n",
       "0                                            0.0   \n",
       "\n",
       "   upfx7_per-core-stats.per-core-stat.system_value  \\\n",
       "0                                            -0.03   \n",
       "\n",
       "   upfx7_per-core-stats.per-core-stat.user_value  \n",
       "0                                           0.24  \n",
       "\n",
       "[1 rows x 4121 columns]"
      ]
     },
     "execution_count": 37,
     "metadata": {},
     "output_type": "execute_result"
    }
   ],
   "source": [
    "df_a.head(1)"
   ]
  },
  {
   "cell_type": "code",
   "execution_count": 38,
   "id": "b40991b2",
   "metadata": {},
   "outputs": [],
   "source": [
    "del df_a['time']\n",
    "del df_a['source_name']"
   ]
  },
  {
   "cell_type": "code",
   "execution_count": 39,
   "id": "1f72688b",
   "metadata": {},
   "outputs": [],
   "source": [
    "le = LabelEncoder()\n",
    "label1 = le.fit_transform(df_a['y_true(fc)'])\n",
    "df_a['y_true(fc)'] = label1"
   ]
  },
  {
   "cell_type": "code",
   "execution_count": 40,
   "id": "f04df8b8",
   "metadata": {},
   "outputs": [],
   "source": [
    "x = df_a.drop('y_true(fc)', axis=1)\n",
    "y = df_a['y_true(fc)']"
   ]
  },
  {
   "cell_type": "code",
   "execution_count": 41,
   "id": "ac1d460e",
   "metadata": {},
   "outputs": [],
   "source": [
    "from sklearn.metrics import recall_score, confusion_matrix, classification_report"
   ]
  },
  {
   "cell_type": "code",
   "execution_count": 42,
   "id": "648828ac",
   "metadata": {},
   "outputs": [],
   "source": [
    "from xgboost import XGBClassifier\n",
    "from sklearn.metrics import accuracy_score\n",
    "from sklearn.model_selection import train_test_split\n",
    "\n",
    "X_train, X_test, y_train, y_test = train_test_split(x, y, random_state=2)"
   ]
  },
  {
   "cell_type": "code",
   "execution_count": 43,
   "id": "bfffa7b4",
   "metadata": {},
   "outputs": [],
   "source": [
    "def xgb_clf(model, nrows):\n",
    "    # Fit xg_reg to training set\n",
    "    model.fit(X_train, y_train)\n",
    "    # Predict labels of test set, y_pred\n",
    "    y_pred = model.predict(X_test)\n",
    "    score = recall_score(y_test, y_pred, pos_label='positive', average='micro')\n",
    "    print(confusion_matrix(y_test, y_pred))\n",
    "    print(classification_report(y_test, y_pred))\n",
    "    return score"
   ]
  },
  {
   "cell_type": "code",
   "execution_count": 44,
   "id": "d9e9122a",
   "metadata": {},
   "outputs": [
    {
     "name": "stdout",
     "output_type": "stream",
     "text": [
      "[[ 15   0   0   0   0   0   0   0   0   0   0   0   0   0   0   0]\n",
      " [  0  29   0   0   0   0   0   0   0   0   0   0   0   0   0   0]\n",
      " [  0   0  23   0   0   0   0   0   0   0   0   0   0   0   0   0]\n",
      " [  0   0   0  16   0   0   0   0   0   0   0   0   0   0   0   0]\n",
      " [  0   0   0   0  21   0   0   0   0   0   0   0   0   0   0   0]\n",
      " [  0   0   0   0   0   4   0   0   0   0  12   0   0   0   0   0]\n",
      " [  0   0   0   0   0   0  22   0   0   0   0   0   0   0   0   0]\n",
      " [  0   0   0   0   0   0   0  26   0   0   0   0   0   0   0   0]\n",
      " [  0   0   0   0   0   0   0   0  16   0   0   0   0   0   0   0]\n",
      " [  0   0   0   0   0   0   0   0   0  18   0   0   0   0   0   0]\n",
      " [  0   0   0   0   0   0   0   1   0   0 593   0   0   0   0   0]\n",
      " [  0   0   0   0   0   1   0   0   0   0  13  16   0   0   0   0]\n",
      " [  0   0   0   0   0   0   0   0   0   0   0   0  18   0   0   0]\n",
      " [  0   0   0   0   0   1   0   0   0   0   0   0   0  21   0   0]\n",
      " [  0   0   0   0   0   0   0   0   0   0   0   0   0   0  22   0]\n",
      " [  0   0   0   0   0   0   0   0   0   0   0   0   0   0   0  24]]\n",
      "              precision    recall  f1-score   support\n",
      "\n",
      "           0       1.00      1.00      1.00        15\n",
      "           1       1.00      1.00      1.00        29\n",
      "           2       1.00      1.00      1.00        23\n",
      "           3       1.00      1.00      1.00        16\n",
      "           4       1.00      1.00      1.00        21\n",
      "           5       0.67      0.25      0.36        16\n",
      "           6       1.00      1.00      1.00        22\n",
      "           7       0.96      1.00      0.98        26\n",
      "           8       1.00      1.00      1.00        16\n",
      "           9       1.00      1.00      1.00        18\n",
      "          10       0.96      1.00      0.98       594\n",
      "          11       1.00      0.53      0.70        30\n",
      "          12       1.00      1.00      1.00        18\n",
      "          13       1.00      0.95      0.98        22\n",
      "          14       1.00      1.00      1.00        22\n",
      "          15       1.00      1.00      1.00        24\n",
      "\n",
      "    accuracy                           0.97       912\n",
      "   macro avg       0.97      0.92      0.94       912\n",
      "weighted avg       0.97      0.97      0.96       912\n",
      "\n"
     ]
    },
    {
     "data": {
      "text/plain": [
       "0.9692982456140351"
      ]
     },
     "execution_count": 44,
     "metadata": {},
     "output_type": "execute_result"
    }
   ],
   "source": [
    "xgb_clf(XGBClassifier(random_state=2), nrows=800)"
   ]
  },
  {
   "cell_type": "code",
   "execution_count": 45,
   "id": "7df2217c",
   "metadata": {},
   "outputs": [
    {
     "name": "stdout",
     "output_type": "stream",
     "text": [
      "[[ 15   0   0   0   0   0   0   0   0   0   0   0   0   0   0   0]\n",
      " [  0  29   0   0   0   0   0   0   0   0   0   0   0   0   0   0]\n",
      " [  0   0  23   0   0   0   0   0   0   0   0   0   0   0   0   0]\n",
      " [  0   0   0  16   0   0   0   0   0   0   0   0   0   0   0   0]\n",
      " [  0   0   0   0  21   0   0   0   0   0   0   0   0   0   0   0]\n",
      " [  0   0   0   0   0   4   0   0   0   0  12   0   0   0   0   0]\n",
      " [  0   0   0   0   0   0  22   0   0   0   0   0   0   0   0   0]\n",
      " [  0   0   0   0   0   0   0  26   0   0   0   0   0   0   0   0]\n",
      " [  0   0   0   0   0   0   0   0  16   0   0   0   0   0   0   0]\n",
      " [  0   0   0   0   0   0   0   0   0  18   0   0   0   0   0   0]\n",
      " [  0   0   0   0   0   0   0   1   0   0 593   0   0   0   0   0]\n",
      " [  0   0   0   0   0   1   0   0   0   0  13  16   0   0   0   0]\n",
      " [  0   0   0   0   0   0   0   0   0   0   0   0  18   0   0   0]\n",
      " [  0   0   0   0   0   1   0   0   0   0   0   0   0  21   0   0]\n",
      " [  0   0   0   0   0   0   0   0   0   0   0   0   0   0  22   0]\n",
      " [  0   0   0   0   0   0   0   0   0   0   0   0   0   0   0  24]]\n",
      "              precision    recall  f1-score   support\n",
      "\n",
      "           0       1.00      1.00      1.00        15\n",
      "           1       1.00      1.00      1.00        29\n",
      "           2       1.00      1.00      1.00        23\n",
      "           3       1.00      1.00      1.00        16\n",
      "           4       1.00      1.00      1.00        21\n",
      "           5       0.67      0.25      0.36        16\n",
      "           6       1.00      1.00      1.00        22\n",
      "           7       0.96      1.00      0.98        26\n",
      "           8       1.00      1.00      1.00        16\n",
      "           9       1.00      1.00      1.00        18\n",
      "          10       0.96      1.00      0.98       594\n",
      "          11       1.00      0.53      0.70        30\n",
      "          12       1.00      1.00      1.00        18\n",
      "          13       1.00      0.95      0.98        22\n",
      "          14       1.00      1.00      1.00        22\n",
      "          15       1.00      1.00      1.00        24\n",
      "\n",
      "    accuracy                           0.97       912\n",
      "   macro avg       0.97      0.92      0.94       912\n",
      "weighted avg       0.97      0.97      0.96       912\n",
      "\n"
     ]
    },
    {
     "data": {
      "text/plain": [
       "0.9692982456140351"
      ]
     },
     "execution_count": 45,
     "metadata": {},
     "output_type": "execute_result"
    }
   ],
   "source": [
    "xgb_clf(XGBClassifier(random_state=2), nrows=200)\n"
   ]
  },
  {
   "cell_type": "code",
   "execution_count": 46,
   "id": "0e3bde67",
   "metadata": {},
   "outputs": [
    {
     "name": "stdout",
     "output_type": "stream",
     "text": [
      "[[ 15   0   0   0   0   0   0   0   0   0   0   0   0   0   0   0]\n",
      " [  0  29   0   0   0   0   0   0   0   0   0   0   0   0   0   0]\n",
      " [  0   0  23   0   0   0   0   0   0   0   0   0   0   0   0   0]\n",
      " [  0   0   0  16   0   0   0   0   0   0   0   0   0   0   0   0]\n",
      " [  0   0   0   0  21   0   0   0   0   0   0   0   0   0   0   0]\n",
      " [  0   0   0   0   0   4   0   0   0   0  12   0   0   0   0   0]\n",
      " [  0   0   0   0   0   0  22   0   0   0   0   0   0   0   0   0]\n",
      " [  0   0   0   0   0   0   0  26   0   0   0   0   0   0   0   0]\n",
      " [  0   0   0   0   0   0   0   0  16   0   0   0   0   0   0   0]\n",
      " [  0   0   0   0   0   0   0   0   0  18   0   0   0   0   0   0]\n",
      " [  0   0   0   0   0   0   0   1   0   0 593   0   0   0   0   0]\n",
      " [  0   0   0   0   0   1   0   0   0   0  13  16   0   0   0   0]\n",
      " [  0   0   0   0   0   0   0   0   0   0   0   0  18   0   0   0]\n",
      " [  0   0   0   0   0   1   0   0   0   0   0   0   0  21   0   0]\n",
      " [  0   0   0   0   0   0   0   0   0   0   0   0   0   0  22   0]\n",
      " [  0   0   0   0   0   0   0   0   0   0   0   0   0   0   0  24]]\n",
      "              precision    recall  f1-score   support\n",
      "\n",
      "           0       1.00      1.00      1.00        15\n",
      "           1       1.00      1.00      1.00        29\n",
      "           2       1.00      1.00      1.00        23\n",
      "           3       1.00      1.00      1.00        16\n",
      "           4       1.00      1.00      1.00        21\n",
      "           5       0.67      0.25      0.36        16\n",
      "           6       1.00      1.00      1.00        22\n",
      "           7       0.96      1.00      0.98        26\n",
      "           8       1.00      1.00      1.00        16\n",
      "           9       1.00      1.00      1.00        18\n",
      "          10       0.96      1.00      0.98       594\n",
      "          11       1.00      0.53      0.70        30\n",
      "          12       1.00      1.00      1.00        18\n",
      "          13       1.00      0.95      0.98        22\n",
      "          14       1.00      1.00      1.00        22\n",
      "          15       1.00      1.00      1.00        24\n",
      "\n",
      "    accuracy                           0.97       912\n",
      "   macro avg       0.97      0.92      0.94       912\n",
      "weighted avg       0.97      0.97      0.96       912\n",
      "\n"
     ]
    },
    {
     "data": {
      "text/plain": [
       "0.9692982456140351"
      ]
     },
     "execution_count": 46,
     "metadata": {},
     "output_type": "execute_result"
    }
   ],
   "source": [
    "xgb_clf(XGBClassifier(random_state=2), nrows=74)\n"
   ]
  },
  {
   "cell_type": "code",
   "execution_count": 49,
   "id": "be19fef3",
   "metadata": {},
   "outputs": [],
   "source": [
    "from sklearn.ensemble import StackingClassifier\n",
    "from sklearn.linear_model import LogisticRegression\n",
    "from sklearn.ensemble import RandomForestClassifier"
   ]
  },
  {
   "cell_type": "code",
   "execution_count": 50,
   "id": "d8b2f4bc",
   "metadata": {},
   "outputs": [],
   "source": [
    "from sklearn.model_selection import StratifiedKFold\n",
    "import warnings\n",
    "warnings.filterwarnings('ignore')"
   ]
  },
  {
   "cell_type": "code",
   "execution_count": 51,
   "id": "3dc8a354",
   "metadata": {},
   "outputs": [],
   "source": [
    "kfold = StratifiedKFold(n_splits=5)"
   ]
  },
  {
   "cell_type": "code",
   "execution_count": 52,
   "id": "69959d4b",
   "metadata": {},
   "outputs": [
    {
     "name": "stdout",
     "output_type": "stream",
     "text": [
      "0.9755829903978052\n"
     ]
    }
   ],
   "source": [
    "base_models = []\n",
    "base_models.append(('lr', LogisticRegression()))\n",
    "base_models.append(('xgb', XGBClassifier()))\n",
    "base_models.append(('rf', RandomForestClassifier(random_state=2)))\n",
    "# define meta learner model\n",
    "meta_model = LogisticRegression()\n",
    "# define the stacking ensemble\n",
    "clf = StackingClassifier(estimators=base_models, final_estimator=meta_model)\n",
    "scores = cross_val_score(clf, x, y, cv=kfold)\n",
    "print(scores.mean())"
   ]
  },
  {
   "cell_type": "code",
   "execution_count": null,
   "id": "3643fde5",
   "metadata": {},
   "outputs": [],
   "source": []
  }
 ],
 "metadata": {
  "kernelspec": {
   "display_name": "Python 3 (ipykernel)",
   "language": "python",
   "name": "python3"
  },
  "language_info": {
   "codemirror_mode": {
    "name": "ipython",
    "version": 3
   },
   "file_extension": ".py",
   "mimetype": "text/x-python",
   "name": "python",
   "nbconvert_exporter": "python",
   "pygments_lexer": "ipython3",
   "version": "3.11.3"
  }
 },
 "nbformat": 4,
 "nbformat_minor": 5
}
